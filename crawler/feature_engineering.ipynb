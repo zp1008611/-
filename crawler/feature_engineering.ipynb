{
 "cells": [
  {
   "cell_type": "code",
   "execution_count": 1,
   "source": [
    "import pandas as pd\r\n",
    "import numpy as np"
   ],
   "outputs": [],
   "metadata": {}
  },
  {
   "cell_type": "markdown",
   "source": [
    "# 一、导入数据并探索"
   ],
   "metadata": {}
  },
  {
   "cell_type": "code",
   "execution_count": 2,
   "source": [
    "data = pd.read_excel('初步筛选后数据集.xlsx')"
   ],
   "outputs": [],
   "metadata": {}
  },
  {
   "cell_type": "code",
   "execution_count": 3,
   "source": [
    "data.info()"
   ],
   "outputs": [
    {
     "output_type": "stream",
     "name": "stdout",
     "text": [
      "<class 'pandas.core.frame.DataFrame'>\n",
      "RangeIndex: 33136 entries, 0 to 33135\n",
      "Data columns (total 79 columns):\n",
      " #   Column    Non-Null Count  Dtype         \n",
      "---  ------    --------------  -----         \n",
      " 0   所在广州区域    33136 non-null  object        \n",
      " 1   小区ID      33136 non-null  int64         \n",
      " 2   关注人数      33136 non-null  int64         \n",
      " 3   房屋总价      33136 non-null  object        \n",
      " 4   房屋每平米价    33136 non-null  object        \n",
      " 5   建楼时间      33136 non-null  object        \n",
      " 6   tag       33136 non-null  object        \n",
      " 7   房屋图片数量    32552 non-null  float64       \n",
      " 8   户型分间      33136 non-null  object        \n",
      " 9   近七天带看房次数  33136 non-null  int64         \n",
      " 10  30天带看房次数  33136 non-null  int64         \n",
      " 11  爬取日期      33136 non-null  datetime64[ns]\n",
      " 12  小区均价      33127 non-null  float64       \n",
      " 13  小区楼栋数     33127 non-null  object        \n",
      " 14  小区在售二手房数  33127 non-null  float64       \n",
      " 15  小区在租房数    33127 non-null  float64       \n",
      " 16  小区建筑类型    33127 non-null  object        \n",
      " 17  小区建筑年代    33127 non-null  object        \n",
      " 18  小区物业费用    33123 non-null  object        \n",
      " 19  小区关注人数    33123 non-null  float64       \n",
      " 20  房屋户型      33136 non-null  object        \n",
      " 21  所在楼层      33136 non-null  object        \n",
      " 22  建筑面积      33136 non-null  object        \n",
      " 23  户型结构      32738 non-null  object        \n",
      " 24  套内面积      33136 non-null  object        \n",
      " 25  建筑类型      32738 non-null  object        \n",
      " 26  房屋朝向      33136 non-null  object        \n",
      " 27  建筑结构      33136 non-null  object        \n",
      " 28  装修情况      33136 non-null  object        \n",
      " 29  梯户比例      32738 non-null  object        \n",
      " 30  配备电梯      32738 non-null  object        \n",
      " 31  挂牌时间      33136 non-null  object        \n",
      " 32  交易权属      33136 non-null  object        \n",
      " 33  上次交易      33136 non-null  object        \n",
      " 34  房屋用途      33136 non-null  object        \n",
      " 35  房屋年限      33136 non-null  object        \n",
      " 36  产权所属      33136 non-null  object        \n",
      " 37  抵押信息      33136 non-null  object        \n",
      " 38  房本备件      33136 non-null  object        \n",
      " 39  地铁站数      32083 non-null  float64       \n",
      " 40  地铁线数      32083 non-null  float64       \n",
      " 41  地铁平均距离    32083 non-null  float64       \n",
      " 42  公交站数      32083 non-null  float64       \n",
      " 43  公交线数      32083 non-null  float64       \n",
      " 44  公交平均距离    32083 non-null  float64       \n",
      " 45  幼儿园数      32083 non-null  float64       \n",
      " 46  幼儿园平均距离   32083 non-null  float64       \n",
      " 47  小学数       32083 non-null  float64       \n",
      " 48  小学平均距离    32083 non-null  float64       \n",
      " 49  中学数       32083 non-null  float64       \n",
      " 50  中学平均距离    32083 non-null  float64       \n",
      " 51  大学数       32083 non-null  float64       \n",
      " 52  大学平均距离    28222 non-null  float64       \n",
      " 53  医院数       32083 non-null  float64       \n",
      " 54  医院平均距离    29191 non-null  float64       \n",
      " 55  药店数       32083 non-null  float64       \n",
      " 56  药店平均距离    32083 non-null  float64       \n",
      " 57  商场数       32083 non-null  float64       \n",
      " 58  商场平均距离    32083 non-null  float64       \n",
      " 59  超市数       32083 non-null  float64       \n",
      " 60  超市平均距离    32083 non-null  float64       \n",
      " 61  市场数       32083 non-null  float64       \n",
      " 62  市场平均距离    32083 non-null  float64       \n",
      " 63  银行数       32083 non-null  float64       \n",
      " 64  银行平均距离    32083 non-null  float64       \n",
      " 65  ATM数      32083 non-null  float64       \n",
      " 66  ATM平均距离   32083 non-null  float64       \n",
      " 67  餐厅数       32083 non-null  float64       \n",
      " 68  餐厅平均距离    32083 non-null  float64       \n",
      " 69  咖啡馆数      32083 non-null  float64       \n",
      " 70  咖啡馆平均距离   32083 non-null  float64       \n",
      " 71  公园数       32083 non-null  float64       \n",
      " 72  公园平均距离    32083 non-null  float64       \n",
      " 73  电影院数      32083 non-null  float64       \n",
      " 74  电影院平均距离   32083 non-null  float64       \n",
      " 75  健身房数      32083 non-null  float64       \n",
      " 76  健身房平均距离   32083 non-null  float64       \n",
      " 77  体育馆数      32083 non-null  float64       \n",
      " 78  体育馆平均距离   32083 non-null  float64       \n",
      "dtypes: datetime64[ns](1), float64(45), int64(4), object(29)\n",
      "memory usage: 20.0+ MB\n"
     ]
    }
   ],
   "metadata": {}
  },
  {
   "cell_type": "code",
   "execution_count": 95,
   "source": [
    "data1 = data.copy()"
   ],
   "outputs": [],
   "metadata": {}
  },
  {
   "cell_type": "code",
   "execution_count": 194,
   "source": [
    "# 重复值\r\n",
    "data1.duplicated().sum()"
   ],
   "outputs": [
    {
     "output_type": "execute_result",
     "data": {
      "text/plain": [
       "5241"
      ]
     },
     "metadata": {},
     "execution_count": 194
    }
   ],
   "metadata": {}
  },
  {
   "cell_type": "code",
   "execution_count": 195,
   "source": [
    "data1.drop_duplicates(inplace=True)"
   ],
   "outputs": [],
   "metadata": {}
  },
  {
   "cell_type": "code",
   "execution_count": 196,
   "source": [
    "# 有空值的列的空值数量\r\n",
    "index = data1.columns[data1.isnull().sum()>0]\r\n",
    "data1.isnull().sum()[index]"
   ],
   "outputs": [
    {
     "output_type": "execute_result",
     "data": {
      "text/plain": [
       "房屋图片数量       555\n",
       "小区均价           8\n",
       "小区楼栋数          8\n",
       "小区在售二手房数       8\n",
       "小区在租房数         8\n",
       "小区建筑类型         8\n",
       "小区建筑年代         8\n",
       "小区物业费用        12\n",
       "小区关注人数        12\n",
       "户型结构         347\n",
       "建筑类型         347\n",
       "梯户比例         347\n",
       "配备电梯         347\n",
       "地铁站数         890\n",
       "地铁线数         890\n",
       "地铁平均距离       890\n",
       "公交站数         890\n",
       "公交线数         890\n",
       "公交平均距离       890\n",
       "幼儿园数         890\n",
       "幼儿园平均距离      890\n",
       "小学数          890\n",
       "小学平均距离       890\n",
       "中学数          890\n",
       "中学平均距离       890\n",
       "大学数          890\n",
       "大学平均距离      4146\n",
       "医院数          890\n",
       "医院平均距离      3365\n",
       "药店数          890\n",
       "药店平均距离       890\n",
       "商场数          890\n",
       "商场平均距离       890\n",
       "超市数          890\n",
       "超市平均距离       890\n",
       "市场数          890\n",
       "市场平均距离       890\n",
       "银行数          890\n",
       "银行平均距离       890\n",
       "ATM数         890\n",
       "ATM平均距离      890\n",
       "餐厅数          890\n",
       "餐厅平均距离       890\n",
       "咖啡馆数         890\n",
       "咖啡馆平均距离      890\n",
       "公园数          890\n",
       "公园平均距离       890\n",
       "电影院数         890\n",
       "电影院平均距离      890\n",
       "健身房数         890\n",
       "健身房平均距离      890\n",
       "体育馆数         890\n",
       "体育馆平均距离      890\n",
       "dtype: int64"
      ]
     },
     "metadata": {},
     "execution_count": 196
    }
   ],
   "metadata": {}
  },
  {
   "cell_type": "code",
   "execution_count": 97,
   "source": [
    "data1.head(1)"
   ],
   "outputs": [
    {
     "output_type": "execute_result",
     "data": {
      "text/html": [
       "<div>\n",
       "<style scoped>\n",
       "    .dataframe tbody tr th:only-of-type {\n",
       "        vertical-align: middle;\n",
       "    }\n",
       "\n",
       "    .dataframe tbody tr th {\n",
       "        vertical-align: top;\n",
       "    }\n",
       "\n",
       "    .dataframe thead th {\n",
       "        text-align: right;\n",
       "    }\n",
       "</style>\n",
       "<table border=\"1\" class=\"dataframe\">\n",
       "  <thead>\n",
       "    <tr style=\"text-align: right;\">\n",
       "      <th></th>\n",
       "      <th>所在广州区域</th>\n",
       "      <th>小区ID</th>\n",
       "      <th>关注人数</th>\n",
       "      <th>房屋总价</th>\n",
       "      <th>房屋每平米价</th>\n",
       "      <th>建楼时间</th>\n",
       "      <th>tag</th>\n",
       "      <th>房屋图片数量</th>\n",
       "      <th>户型分间</th>\n",
       "      <th>近七天带看房次数</th>\n",
       "      <th>...</th>\n",
       "      <th>咖啡馆数</th>\n",
       "      <th>咖啡馆平均距离</th>\n",
       "      <th>公园数</th>\n",
       "      <th>公园平均距离</th>\n",
       "      <th>电影院数</th>\n",
       "      <th>电影院平均距离</th>\n",
       "      <th>健身房数</th>\n",
       "      <th>健身房平均距离</th>\n",
       "      <th>体育馆数</th>\n",
       "      <th>体育馆平均距离</th>\n",
       "    </tr>\n",
       "  </thead>\n",
       "  <tbody>\n",
       "    <tr>\n",
       "      <th>0</th>\n",
       "      <td>天河</td>\n",
       "      <td>2111103317017</td>\n",
       "      <td>6</td>\n",
       "      <td>660万</td>\n",
       "      <td>56085元/平米</td>\n",
       "      <td>2006年建</td>\n",
       "      <td>['VR房源', '房本满五年']</td>\n",
       "      <td>10.0</td>\n",
       "      <td>{'客厅': ['44.05平米', '西 北 南', '普通窗'], '卧室A': ['6...</td>\n",
       "      <td>0</td>\n",
       "      <td>...</td>\n",
       "      <td>5.0</td>\n",
       "      <td>1483.6</td>\n",
       "      <td>5.0</td>\n",
       "      <td>1186.8</td>\n",
       "      <td>4.0</td>\n",
       "      <td>1432.75</td>\n",
       "      <td>5.0</td>\n",
       "      <td>1043.4</td>\n",
       "      <td>5.0</td>\n",
       "      <td>1071.4</td>\n",
       "    </tr>\n",
       "  </tbody>\n",
       "</table>\n",
       "<p>1 rows × 79 columns</p>\n",
       "</div>"
      ],
      "text/plain": [
       "  所在广州区域           小区ID  关注人数  房屋总价     房屋每平米价    建楼时间                tag  \\\n",
       "0     天河  2111103317017     6  660万  56085元/平米  2006年建  ['VR房源', '房本满五年']   \n",
       "\n",
       "   房屋图片数量                                               户型分间  近七天带看房次数  ...  \\\n",
       "0    10.0  {'客厅': ['44.05平米', '西 北 南', '普通窗'], '卧室A': ['6...         0  ...   \n",
       "\n",
       "   咖啡馆数 咖啡馆平均距离  公园数  公园平均距离  电影院数  电影院平均距离 健身房数 健身房平均距离 体育馆数  体育馆平均距离  \n",
       "0   5.0  1483.6  5.0  1186.8   4.0  1432.75  5.0  1043.4  5.0   1071.4  \n",
       "\n",
       "[1 rows x 79 columns]"
      ]
     },
     "metadata": {},
     "execution_count": 97
    }
   ],
   "metadata": {}
  },
  {
   "cell_type": "markdown",
   "source": [
    "# 二、交易特征"
   ],
   "metadata": {}
  },
  {
   "cell_type": "code",
   "execution_count": 98,
   "source": [
    "jiaoyi_features = ['关注人数', '房屋总价', '房屋每平米价', '近七天带看房次数', \r\n",
    "'30天带看房次数', '爬取日期', '挂牌时间', '上次交易', '产权所属', '抵押信息',\r\n",
    "'房本备件', '小区均价', '小区在售二手房数', '小区在租房数', '小区物业费用', '小区关注人数']+['房屋年限','房屋用途','交易权属']"
   ],
   "outputs": [],
   "metadata": {}
  },
  {
   "cell_type": "code",
   "execution_count": 99,
   "source": [
    "data_jiaoyi = data1[jiaoyi_features].copy()\r\n",
    "# 是原数据的副本，修改data_jiaoyi不会更改data1"
   ],
   "outputs": [],
   "metadata": {}
  },
  {
   "cell_type": "markdown",
   "source": [
    "交易特征中有空值的特征为：\r\n",
    "\r\n",
    "`小区均价、小区在售二手房数、小区在租房数、小区物业费用、小区关注人数`"
   ],
   "metadata": {}
  },
  {
   "cell_type": "code",
   "execution_count": 100,
   "source": [
    "index = data_jiaoyi.columns[data_jiaoyi.isnull().sum()>0]\r\n",
    "data_jiaoyi.isnull().sum()[index]"
   ],
   "outputs": [
    {
     "output_type": "execute_result",
     "data": {
      "text/plain": [
       "小区均价         9\n",
       "小区在售二手房数     9\n",
       "小区在租房数       9\n",
       "小区物业费用      13\n",
       "小区关注人数      13\n",
       "dtype: int64"
      ]
     },
     "metadata": {},
     "execution_count": 100
    }
   ],
   "metadata": {}
  },
  {
   "cell_type": "code",
   "execution_count": 101,
   "source": [
    "data_jiaoyi.info()"
   ],
   "outputs": [
    {
     "output_type": "stream",
     "name": "stdout",
     "text": [
      "<class 'pandas.core.frame.DataFrame'>\n",
      "RangeIndex: 33136 entries, 0 to 33135\n",
      "Data columns (total 19 columns):\n",
      " #   Column    Non-Null Count  Dtype         \n",
      "---  ------    --------------  -----         \n",
      " 0   关注人数      33136 non-null  int64         \n",
      " 1   房屋总价      33136 non-null  object        \n",
      " 2   房屋每平米价    33136 non-null  object        \n",
      " 3   近七天带看房次数  33136 non-null  int64         \n",
      " 4   30天带看房次数  33136 non-null  int64         \n",
      " 5   爬取日期      33136 non-null  datetime64[ns]\n",
      " 6   挂牌时间      33136 non-null  object        \n",
      " 7   上次交易      33136 non-null  object        \n",
      " 8   产权所属      33136 non-null  object        \n",
      " 9   抵押信息      33136 non-null  object        \n",
      " 10  房本备件      33136 non-null  object        \n",
      " 11  小区均价      33127 non-null  float64       \n",
      " 12  小区在售二手房数  33127 non-null  float64       \n",
      " 13  小区在租房数    33127 non-null  float64       \n",
      " 14  小区物业费用    33123 non-null  object        \n",
      " 15  小区关注人数    33123 non-null  float64       \n",
      " 16  房屋年限      33136 non-null  object        \n",
      " 17  房屋用途      33136 non-null  object        \n",
      " 18  交易权属      33136 non-null  object        \n",
      "dtypes: datetime64[ns](1), float64(4), int64(3), object(11)\n",
      "memory usage: 4.8+ MB\n"
     ]
    }
   ],
   "metadata": {}
  },
  {
   "cell_type": "markdown",
   "source": [
    "## 2.1 去单位数值化"
   ],
   "metadata": {}
  },
  {
   "cell_type": "code",
   "execution_count": 102,
   "source": [
    "data_jiaoyi['房屋总价'] = data_jiaoyi['房屋总价'].apply(lambda x:x[:-1]).astype(float)\r\n",
    "data_jiaoyi['房屋每平米价'] = data_jiaoyi['房屋每平米价'].apply(lambda x:x[:-4]).astype(float)\r\n",
    "data_jiaoyi['小区物业费用'].replace('暂无信息',np.nan,inplace=True)\r\n",
    "# np.nan属于float，不能截片，故使用notnull过滤\r\n",
    "data_jiaoyi.loc[data_jiaoyi['小区物业费用'].notnull(),'小区物业费用'] = \\\r\n",
    "data_jiaoyi.loc[data_jiaoyi['小区物业费用'].notnull(),'小区物业费用'].apply(lambda x:x[:-6])\r\n",
    "data_jiaoyi.loc[data_jiaoyi['小区物业费用'].notnull(),'小区物业费用'] = \\\r\n",
    "data_jiaoyi.loc[data_jiaoyi['小区物业费用'].notnull(),'小区物业费用'].apply(lambda x: (np.double(x.split('至')[0])+np.double(x.split('至')[1]))/2 if '至' in x else x)\r\n",
    "data_jiaoyi['小区物业费用'] = data_jiaoyi['小区物业费用'].astype('float')"
   ],
   "outputs": [],
   "metadata": {}
  },
  {
   "cell_type": "markdown",
   "source": [
    "## 2.2 时间特征\r\n",
    "\r\n",
    "感觉爬取日期无意义，删除"
   ],
   "metadata": {}
  },
  {
   "cell_type": "code",
   "execution_count": 103,
   "source": [
    "data_jiaoyi['上次交易'].replace('暂无数据', np.nan, inplace=True)\r\n",
    "data_jiaoyi['上次交易'] = pd.to_datetime(data_jiaoyi['上次交易'],errors = 'coerce')\r\n",
    "data_jiaoyi['挂牌时间'] = pd.to_datetime(data_jiaoyi['挂牌时间'],errors = 'coerce')\r\n"
   ],
   "outputs": [],
   "metadata": {}
  },
  {
   "cell_type": "code",
   "execution_count": 104,
   "source": [
    "# 含nan值进行运算得到也是nan\r\n",
    "data_jiaoyi['挂牌距上次交易天数'] = (data_jiaoyi['挂牌时间']-data_jiaoyi['上次交易']).apply(lambda x:x.days)"
   ],
   "outputs": [],
   "metadata": {}
  },
  {
   "cell_type": "code",
   "execution_count": 105,
   "source": [
    "data_jiaoyi[['上次交易','挂牌时间','挂牌距上次交易天数']].head()"
   ],
   "outputs": [
    {
     "output_type": "execute_result",
     "data": {
      "text/html": [
       "<div>\n",
       "<style scoped>\n",
       "    .dataframe tbody tr th:only-of-type {\n",
       "        vertical-align: middle;\n",
       "    }\n",
       "\n",
       "    .dataframe tbody tr th {\n",
       "        vertical-align: top;\n",
       "    }\n",
       "\n",
       "    .dataframe thead th {\n",
       "        text-align: right;\n",
       "    }\n",
       "</style>\n",
       "<table border=\"1\" class=\"dataframe\">\n",
       "  <thead>\n",
       "    <tr style=\"text-align: right;\">\n",
       "      <th></th>\n",
       "      <th>上次交易</th>\n",
       "      <th>挂牌时间</th>\n",
       "      <th>挂牌距上次交易天数</th>\n",
       "    </tr>\n",
       "  </thead>\n",
       "  <tbody>\n",
       "    <tr>\n",
       "      <th>0</th>\n",
       "      <td>2002-03-28</td>\n",
       "      <td>2021-04-30</td>\n",
       "      <td>6973.0</td>\n",
       "    </tr>\n",
       "    <tr>\n",
       "      <th>1</th>\n",
       "      <td>2011-11-22</td>\n",
       "      <td>2021-04-24</td>\n",
       "      <td>3441.0</td>\n",
       "    </tr>\n",
       "    <tr>\n",
       "      <th>2</th>\n",
       "      <td>2017-03-23</td>\n",
       "      <td>2021-04-24</td>\n",
       "      <td>1493.0</td>\n",
       "    </tr>\n",
       "    <tr>\n",
       "      <th>3</th>\n",
       "      <td>2015-04-23</td>\n",
       "      <td>2021-04-23</td>\n",
       "      <td>2192.0</td>\n",
       "    </tr>\n",
       "    <tr>\n",
       "      <th>4</th>\n",
       "      <td>2004-12-01</td>\n",
       "      <td>2021-04-25</td>\n",
       "      <td>5989.0</td>\n",
       "    </tr>\n",
       "  </tbody>\n",
       "</table>\n",
       "</div>"
      ],
      "text/plain": [
       "        上次交易       挂牌时间  挂牌距上次交易天数\n",
       "0 2002-03-28 2021-04-30     6973.0\n",
       "1 2011-11-22 2021-04-24     3441.0\n",
       "2 2017-03-23 2021-04-24     1493.0\n",
       "3 2015-04-23 2021-04-23     2192.0\n",
       "4 2004-12-01 2021-04-25     5989.0"
      ]
     },
     "metadata": {},
     "execution_count": 105
    }
   ],
   "metadata": {}
  },
  {
   "cell_type": "code",
   "execution_count": 106,
   "source": [
    "data_jiaoyi.drop(['爬取日期','上次交易','挂牌时间'],axis=1,inplace=True)"
   ],
   "outputs": [],
   "metadata": {}
  },
  {
   "cell_type": "markdown",
   "source": [
    "## 2.3 类别特征"
   ],
   "metadata": {}
  },
  {
   "cell_type": "code",
   "execution_count": 107,
   "source": [
    "data_jiaoyi['房屋年限']"
   ],
   "outputs": [
    {
     "output_type": "execute_result",
     "data": {
      "text/plain": [
       "0         满五年\n",
       "1         满五年\n",
       "2         满两年\n",
       "3         满五年\n",
       "4         满五年\n",
       "         ... \n",
       "33131    暂无数据\n",
       "33132    暂无数据\n",
       "33133     满五年\n",
       "33134    暂无数据\n",
       "33135    暂无数据\n",
       "Name: 房屋年限, Length: 33136, dtype: object"
      ]
     },
     "metadata": {},
     "execution_count": 107
    }
   ],
   "metadata": {}
  },
  {
   "cell_type": "code",
   "execution_count": 108,
   "source": [
    "# 房屋年限与税收相关，与房价无关，故删除\r\n",
    "data_jiaoyi.drop('房屋年限',axis=1,inplace=True)"
   ],
   "outputs": [],
   "metadata": {}
  },
  {
   "cell_type": "markdown",
   "source": [
    "房屋用途、抵押信息、房本备件、产权所属、交易所属\r\n",
    "\r\n",
    "属于类别特征，进行标签编码"
   ],
   "metadata": {}
  },
  {
   "cell_type": "code",
   "execution_count": 109,
   "source": [
    "print(data_jiaoyi['房屋用途'].unique())\r\n",
    "print(data_jiaoyi['抵押信息'].unique())\r\n",
    "print(data_jiaoyi['房本备件'].unique())\r\n",
    "print(data_jiaoyi['产权所属'].unique())\r\n",
    "print(data_jiaoyi['交易权属'].unique())"
   ],
   "outputs": [
    {
     "output_type": "stream",
     "name": "stdout",
     "text": [
      "['普通住宅' '别墅' '商住两用' '商业' '平房']\n",
      "['无抵押' '有抵押 15万元 中国建设银行股份有限公司越秀支行 金融公司垫资' '有抵押 100万元' ... '有抵押 40多万'\n",
      " '有抵押 60万元 中国银行海珠支行' '有抵押 56万元 广州农商行华南新城支行 客户偿还']\n",
      "['已上传房本照片' '未上传房本照片']\n",
      "['非共有' '共有']\n",
      "['商品房' '房改房' '经济适用房' '私产' '动迁安置房']\n"
     ]
    }
   ],
   "metadata": {}
  },
  {
   "cell_type": "code",
   "execution_count": 110,
   "source": [
    "from sklearn.preprocessing import LabelEncoder"
   ],
   "outputs": [],
   "metadata": {}
  },
  {
   "cell_type": "markdown",
   "source": [
    "房屋用途，查资料得到如下等级：别墅>商业>商住两用>普通住宅>平房"
   ],
   "metadata": {}
  },
  {
   "cell_type": "code",
   "execution_count": 111,
   "source": [
    "# LabelEncoder是从0开始编码\r\n",
    "coder = LabelEncoder()\r\n",
    "coder.fit(['平房','普通住宅','商住两用','商业','别墅']) # 平房：0，普通住宅：1，。。。\r\n",
    "data_jiaoyi['房屋用途'] = coder.transform(data_jiaoyi['房屋用途'])\r\n",
    "# coder.inverse_transform(data)可以将编码转为原特征"
   ],
   "outputs": [],
   "metadata": {}
  },
  {
   "cell_type": "markdown",
   "source": [
    "交易权属，暂定使用随机标签编码，等级随机(onehot等编码方式可能会更好)"
   ],
   "metadata": {}
  },
  {
   "cell_type": "code",
   "execution_count": 112,
   "source": [
    "data_jiaoyi['交易权属'] = coder.fit_transform(data_jiaoyi['交易权属']) # fit_transform = 先fit再transform"
   ],
   "outputs": [],
   "metadata": {}
  },
  {
   "cell_type": "markdown",
   "source": [
    "产权所属、抵押信息、房本备件均0-1编码"
   ],
   "metadata": {}
  },
  {
   "cell_type": "code",
   "execution_count": 113,
   "source": [
    "# 有空值就不用labelencoder了\r\n",
    "data_jiaoyi['是否抵押'] = data_jiaoyi.loc[data_jiaoyi['抵押信息'].notnull(),'抵押信息'].apply(lambda x:x[:3])\r\n",
    "data_jiaoyi['是否抵押'] = data_jiaoyi['是否抵押'].replace({'无抵押':0, '有抵押':1, '暂无数':np.nan})\r\n",
    "\r\n",
    "# 后面无空值的特征可用replace也可用coder\r\n",
    "data_jiaoyi['是否上传房本照片'] = data_jiaoyi['房本备件'].replace({'未上传房本照片':0,'已上传房本照片':1})\r\n",
    "\r\n",
    "coder.fit(['共有','非共有'])\r\n",
    "data_jiaoyi['产权是否共有'] = coder.transform(data_jiaoyi['产权所属'])"
   ],
   "outputs": [],
   "metadata": {}
  },
  {
   "cell_type": "code",
   "execution_count": 114,
   "source": [
    "(data_jiaoyi.iloc[:,-5:]).head()"
   ],
   "outputs": [
    {
     "output_type": "execute_result",
     "data": {
      "text/html": [
       "<div>\n",
       "<style scoped>\n",
       "    .dataframe tbody tr th:only-of-type {\n",
       "        vertical-align: middle;\n",
       "    }\n",
       "\n",
       "    .dataframe tbody tr th {\n",
       "        vertical-align: top;\n",
       "    }\n",
       "\n",
       "    .dataframe thead th {\n",
       "        text-align: right;\n",
       "    }\n",
       "</style>\n",
       "<table border=\"1\" class=\"dataframe\">\n",
       "  <thead>\n",
       "    <tr style=\"text-align: right;\">\n",
       "      <th></th>\n",
       "      <th>交易权属</th>\n",
       "      <th>挂牌距上次交易天数</th>\n",
       "      <th>是否抵押</th>\n",
       "      <th>是否上传房本照片</th>\n",
       "      <th>产权是否共有</th>\n",
       "    </tr>\n",
       "  </thead>\n",
       "  <tbody>\n",
       "    <tr>\n",
       "      <th>0</th>\n",
       "      <td>1</td>\n",
       "      <td>6973.0</td>\n",
       "      <td>0.0</td>\n",
       "      <td>1</td>\n",
       "      <td>1</td>\n",
       "    </tr>\n",
       "    <tr>\n",
       "      <th>1</th>\n",
       "      <td>1</td>\n",
       "      <td>3441.0</td>\n",
       "      <td>0.0</td>\n",
       "      <td>1</td>\n",
       "      <td>0</td>\n",
       "    </tr>\n",
       "    <tr>\n",
       "      <th>2</th>\n",
       "      <td>1</td>\n",
       "      <td>1493.0</td>\n",
       "      <td>1.0</td>\n",
       "      <td>1</td>\n",
       "      <td>1</td>\n",
       "    </tr>\n",
       "    <tr>\n",
       "      <th>3</th>\n",
       "      <td>1</td>\n",
       "      <td>2192.0</td>\n",
       "      <td>1.0</td>\n",
       "      <td>1</td>\n",
       "      <td>0</td>\n",
       "    </tr>\n",
       "    <tr>\n",
       "      <th>4</th>\n",
       "      <td>1</td>\n",
       "      <td>5989.0</td>\n",
       "      <td>0.0</td>\n",
       "      <td>1</td>\n",
       "      <td>1</td>\n",
       "    </tr>\n",
       "  </tbody>\n",
       "</table>\n",
       "</div>"
      ],
      "text/plain": [
       "   交易权属  挂牌距上次交易天数  是否抵押  是否上传房本照片  产权是否共有\n",
       "0     1     6973.0   0.0         1       1\n",
       "1     1     3441.0   0.0         1       0\n",
       "2     1     1493.0   1.0         1       1\n",
       "3     1     2192.0   1.0         1       0\n",
       "4     1     5989.0   0.0         1       1"
      ]
     },
     "metadata": {},
     "execution_count": 114
    }
   ],
   "metadata": {}
  },
  {
   "cell_type": "code",
   "execution_count": 115,
   "source": [
    "data_jiaoyi.drop(['抵押信息','房本备件','产权所属'],axis=1,inplace=True)"
   ],
   "outputs": [],
   "metadata": {}
  },
  {
   "cell_type": "code",
   "execution_count": 116,
   "source": [
    "data_jiaoyi.info()"
   ],
   "outputs": [
    {
     "output_type": "stream",
     "name": "stdout",
     "text": [
      "<class 'pandas.core.frame.DataFrame'>\n",
      "RangeIndex: 33136 entries, 0 to 33135\n",
      "Data columns (total 16 columns):\n",
      " #   Column     Non-Null Count  Dtype  \n",
      "---  ------     --------------  -----  \n",
      " 0   关注人数       33136 non-null  int64  \n",
      " 1   房屋总价       33136 non-null  float64\n",
      " 2   房屋每平米价     33136 non-null  float64\n",
      " 3   近七天带看房次数   33136 non-null  int64  \n",
      " 4   30天带看房次数   33136 non-null  int64  \n",
      " 5   小区均价       33127 non-null  float64\n",
      " 6   小区在售二手房数   33127 non-null  float64\n",
      " 7   小区在租房数     33127 non-null  float64\n",
      " 8   小区物业费用     31045 non-null  float64\n",
      " 9   小区关注人数     33123 non-null  float64\n",
      " 10  房屋用途       33136 non-null  int32  \n",
      " 11  交易权属       33136 non-null  int32  \n",
      " 12  挂牌距上次交易天数  31882 non-null  float64\n",
      " 13  是否抵押       33004 non-null  float64\n",
      " 14  是否上传房本照片   33136 non-null  int64  \n",
      " 15  产权是否共有     33136 non-null  int32  \n",
      "dtypes: float64(9), int32(3), int64(4)\n",
      "memory usage: 3.7 MB\n"
     ]
    }
   ],
   "metadata": {}
  },
  {
   "cell_type": "markdown",
   "source": [
    "# 三、建筑特征"
   ],
   "metadata": {}
  },
  {
   "cell_type": "code",
   "execution_count": 117,
   "source": [
    "jianzhu_features = ['建楼时间', '小区建筑年代', 'tag', '户型分间', '小区楼栋数', '房屋图片数量', '建筑面积',\r\n",
    "'套内面积', '梯户比例', '房屋户型', '所在楼层', '小区建筑类型', '户型结构', '建筑类型',\r\n",
    "'建筑结构', '装修情况', '配备电梯', '房屋朝向']\r\n",
    "data_jianzhu = data1[jianzhu_features].copy()"
   ],
   "outputs": [],
   "metadata": {}
  },
  {
   "cell_type": "code",
   "execution_count": 118,
   "source": [
    "index = data_jianzhu.columns[data_jianzhu.isnull().sum()>0]\r\n",
    "data_jianzhu.isnull().sum()[index]"
   ],
   "outputs": [
    {
     "output_type": "execute_result",
     "data": {
      "text/plain": [
       "小区建筑年代      9\n",
       "小区楼栋数       9\n",
       "房屋图片数量    584\n",
       "梯户比例      398\n",
       "小区建筑类型      9\n",
       "户型结构      398\n",
       "建筑类型      398\n",
       "配备电梯      398\n",
       "dtype: int64"
      ]
     },
     "metadata": {},
     "execution_count": 118
    }
   ],
   "metadata": {}
  },
  {
   "cell_type": "markdown",
   "source": [
    "建筑特征中含空值的为：\r\n",
    "\r\n",
    "`小区建筑年代、小区楼栋数、房屋图片数量、梯户比例、小区建筑类型、户型结构、建筑类型、配置电梯`"
   ],
   "metadata": {}
  },
  {
   "cell_type": "markdown",
   "source": [
    "## 3.1 时间特征"
   ],
   "metadata": {}
  },
  {
   "cell_type": "code",
   "execution_count": 119,
   "source": [
    "data_jianzhu['建楼时间'].unique()\r\n",
    "# ‘未知年建’"
   ],
   "outputs": [
    {
     "output_type": "execute_result",
     "data": {
      "text/plain": [
       "array(['2006年建', '未知年建', '2013年建', '1998年建', '2005年建', '2001年建', '1997年建',\n",
       "       '2007年建', '2004年建', '2000年建', '1994年建', '1999年建', '2002年建',\n",
       "       '2003年建', '2009年建', '1985年建', '2012年建', '1995年建', '2015年建',\n",
       "       '2008年建', '1996年建', '2017年建', '2010年建', '1990年建', '2016年建',\n",
       "       '1993年建', '1992年建', '2018年建', '1989年建', '2011年建', '2014年建',\n",
       "       '1980年建', '1987年建', '1991年建', '1983年建', '1988年建', '1970年建',\n",
       "       '1986年建', '1981年建', '1982年建', '1952年建', '1973年建', '1965年建',\n",
       "       '2019年建', '1979年建', '1900年建', '1978年建', '1984年建', '1976年建',\n",
       "       '1977年建', '1956年建', '2020年建'], dtype=object)"
      ]
     },
     "metadata": {},
     "execution_count": 119
    }
   ],
   "metadata": {}
  },
  {
   "cell_type": "code",
   "execution_count": 120,
   "source": [
    "#有nan值和‘未知’\r\n",
    "data_jianzhu['小区建筑年代'].unique()"
   ],
   "outputs": [
    {
     "output_type": "execute_result",
     "data": {
      "text/plain": [
       "array(['1998年', '1990年', '2013年', '1994年', '2002年', '2000年', '2007年',\n",
       "       '1993年', '2001年', '2016年', '1999年', '1997年', '1996年', '2004年',\n",
       "       '2003年', '1985年', '1982年', '2006年', '2012年', '1995年', '2011年',\n",
       "       '1900年', '2015年', '2008年', '1984年', '2005年', '1992年', '1989年',\n",
       "       '2009年', '2017年', '2010年', '1986年', '1991年', '1988年', '1983年',\n",
       "       '1980年', '未知', '1970年', '1975年', '1987年', '2014年', '1965年',\n",
       "       '1906年', '1922年', nan, '1981年', '1926年', '1958年', '1978年', '1952年',\n",
       "       '1973年', '1968年', '1908年', '1950年', '1969年', '1938年', '1953年',\n",
       "       '1949年', '1955年', '1979年', '1971年', '1976年', '1974年', '1956年',\n",
       "       '1977年', '2019年', '1966年', '2018年', '1943年', '1940年', '1933年',\n",
       "       '2066年'], dtype=object)"
      ]
     },
     "metadata": {},
     "execution_count": 120
    }
   ],
   "metadata": {}
  },
  {
   "cell_type": "code",
   "execution_count": 121,
   "source": [
    "# 提取数字\r\n",
    "data_jianzhu['建楼距今年数'] = data_jianzhu['建楼时间'].apply(lambda x:x[:-2])\r\n",
    "data_jianzhu.loc[data_jianzhu['小区建筑年代'].notnull(),'小区建成距今年数'] = data_jianzhu.loc[data_jianzhu['小区建筑年代'].notnull(),'小区建筑年代'].apply(lambda x:x[:-1])\r\n",
    "# 替换异常值\r\n",
    "data_jianzhu['建楼距今年数'].replace('未知',np.nan,inplace=True)\r\n",
    "data_jianzhu['小区建成距今年数'].replace('未',np.nan,inplace=True)"
   ],
   "outputs": [],
   "metadata": {}
  },
  {
   "cell_type": "code",
   "execution_count": 122,
   "source": [
    "this_year = 2021\r\n",
    "# 任意数和nan运算结果仍为nan\r\n",
    "data_jianzhu['建楼距今年数'] = this_year - data_jianzhu['建楼距今年数'].astype(float)\r\n",
    "data_jianzhu['小区建成距今年数'] = this_year - data_jianzhu['小区建成距今年数'].astype(float)"
   ],
   "outputs": [],
   "metadata": {}
  },
  {
   "cell_type": "code",
   "execution_count": 123,
   "source": [
    "data_jianzhu.iloc[:,-2:].head()"
   ],
   "outputs": [
    {
     "output_type": "execute_result",
     "data": {
      "text/html": [
       "<div>\n",
       "<style scoped>\n",
       "    .dataframe tbody tr th:only-of-type {\n",
       "        vertical-align: middle;\n",
       "    }\n",
       "\n",
       "    .dataframe tbody tr th {\n",
       "        vertical-align: top;\n",
       "    }\n",
       "\n",
       "    .dataframe thead th {\n",
       "        text-align: right;\n",
       "    }\n",
       "</style>\n",
       "<table border=\"1\" class=\"dataframe\">\n",
       "  <thead>\n",
       "    <tr style=\"text-align: right;\">\n",
       "      <th></th>\n",
       "      <th>建楼距今年数</th>\n",
       "      <th>小区建成距今年数</th>\n",
       "    </tr>\n",
       "  </thead>\n",
       "  <tbody>\n",
       "    <tr>\n",
       "      <th>0</th>\n",
       "      <td>15.0</td>\n",
       "      <td>23.0</td>\n",
       "    </tr>\n",
       "    <tr>\n",
       "      <th>1</th>\n",
       "      <td>NaN</td>\n",
       "      <td>31.0</td>\n",
       "    </tr>\n",
       "    <tr>\n",
       "      <th>2</th>\n",
       "      <td>8.0</td>\n",
       "      <td>8.0</td>\n",
       "    </tr>\n",
       "    <tr>\n",
       "      <th>3</th>\n",
       "      <td>23.0</td>\n",
       "      <td>27.0</td>\n",
       "    </tr>\n",
       "    <tr>\n",
       "      <th>4</th>\n",
       "      <td>16.0</td>\n",
       "      <td>19.0</td>\n",
       "    </tr>\n",
       "  </tbody>\n",
       "</table>\n",
       "</div>"
      ],
      "text/plain": [
       "   建楼距今年数  小区建成距今年数\n",
       "0    15.0      23.0\n",
       "1     NaN      31.0\n",
       "2     8.0       8.0\n",
       "3    23.0      27.0\n",
       "4    16.0      19.0"
      ]
     },
     "metadata": {},
     "execution_count": 123
    }
   ],
   "metadata": {}
  },
  {
   "cell_type": "code",
   "execution_count": 124,
   "source": [
    "data_jianzhu.drop(['建楼时间','小区建筑年代'],axis=1,inplace=True)"
   ],
   "outputs": [],
   "metadata": {}
  },
  {
   "cell_type": "markdown",
   "source": [
    "## 3.2 房屋标签、小区楼栋数、房屋图片数量、建筑面积、套内面积\r\n",
    "\r\n",
    "去单位数值化"
   ],
   "metadata": {}
  },
  {
   "cell_type": "code",
   "execution_count": 125,
   "source": [
    "data_jianzhu[['tag','小区楼栋数','房屋图片数量','建筑面积','套内面积']].head()"
   ],
   "outputs": [
    {
     "output_type": "execute_result",
     "data": {
      "text/html": [
       "<div>\n",
       "<style scoped>\n",
       "    .dataframe tbody tr th:only-of-type {\n",
       "        vertical-align: middle;\n",
       "    }\n",
       "\n",
       "    .dataframe tbody tr th {\n",
       "        vertical-align: top;\n",
       "    }\n",
       "\n",
       "    .dataframe thead th {\n",
       "        text-align: right;\n",
       "    }\n",
       "</style>\n",
       "<table border=\"1\" class=\"dataframe\">\n",
       "  <thead>\n",
       "    <tr style=\"text-align: right;\">\n",
       "      <th></th>\n",
       "      <th>tag</th>\n",
       "      <th>小区楼栋数</th>\n",
       "      <th>房屋图片数量</th>\n",
       "      <th>建筑面积</th>\n",
       "      <th>套内面积</th>\n",
       "    </tr>\n",
       "  </thead>\n",
       "  <tbody>\n",
       "    <tr>\n",
       "      <th>0</th>\n",
       "      <td>['VR房源', '房本满五年']</td>\n",
       "      <td>6栋</td>\n",
       "      <td>10.0</td>\n",
       "      <td>117.68㎡</td>\n",
       "      <td>暂无数据</td>\n",
       "    </tr>\n",
       "    <tr>\n",
       "      <th>1</th>\n",
       "      <td>['地铁', 'VR看装修', '房本满五年', '随时看房']</td>\n",
       "      <td>11栋</td>\n",
       "      <td>8.0</td>\n",
       "      <td>102.74㎡</td>\n",
       "      <td>暂无数据</td>\n",
       "    </tr>\n",
       "    <tr>\n",
       "      <th>2</th>\n",
       "      <td>['VR看装修', '房本满两年']</td>\n",
       "      <td>12栋</td>\n",
       "      <td>9.0</td>\n",
       "      <td>70.39㎡</td>\n",
       "      <td>56.26㎡</td>\n",
       "    </tr>\n",
       "    <tr>\n",
       "      <th>3</th>\n",
       "      <td>['地铁', 'VR房源', '房本满五年', '随时看房']</td>\n",
       "      <td>6栋</td>\n",
       "      <td>7.0</td>\n",
       "      <td>114.19㎡</td>\n",
       "      <td>99.16㎡</td>\n",
       "    </tr>\n",
       "    <tr>\n",
       "      <th>4</th>\n",
       "      <td>['VR房源', '房本满五年', '随时看房']</td>\n",
       "      <td>16栋</td>\n",
       "      <td>7.0</td>\n",
       "      <td>100.45㎡</td>\n",
       "      <td>85.3㎡</td>\n",
       "    </tr>\n",
       "  </tbody>\n",
       "</table>\n",
       "</div>"
      ],
      "text/plain": [
       "                                tag 小区楼栋数  房屋图片数量     建筑面积    套内面积\n",
       "0                 ['VR房源', '房本满五年']    6栋    10.0  117.68㎡    暂无数据\n",
       "1  ['地铁', 'VR看装修', '房本满五年', '随时看房']   11栋     8.0  102.74㎡    暂无数据\n",
       "2                ['VR看装修', '房本满两年']   12栋     9.0   70.39㎡  56.26㎡\n",
       "3   ['地铁', 'VR房源', '房本满五年', '随时看房']    6栋     7.0  114.19㎡  99.16㎡\n",
       "4         ['VR房源', '房本满五年', '随时看房']   16栋     7.0  100.45㎡   85.3㎡"
      ]
     },
     "metadata": {},
     "execution_count": 125
    }
   ],
   "metadata": {}
  },
  {
   "cell_type": "code",
   "execution_count": 126,
   "source": [
    "index1 = data_jianzhu['小区楼栋数'].notnull() #非空行的索引\r\n",
    "data_jianzhu.loc[index1,'小区楼栋数'] = data_jianzhu.loc[index1,'小区楼栋数'].apply(lambda x:x[:-1])\r\n",
    "data_jianzhu['小区楼栋数'] = data_jianzhu['小区楼栋数'].astype(float)\r\n",
    "\r\n",
    "data_jianzhu['套内面积'].replace('暂无数据',np.nan,inplace=True)\r\n",
    "index2 = data_jianzhu['套内面积'].notnull()\r\n",
    "data_jianzhu.loc[index2,'套内面积'] = data_jianzhu.loc[index2,'套内面积'].apply(lambda x:(x.strip())[:-1])\r\n",
    "data_jianzhu['套内面积'] = data_jianzhu['套内面积'].astype(float)\r\n",
    "\r\n",
    "data_jianzhu['建筑面积'] = data_jianzhu['建筑面积'].apply(lambda x:x[:-1]).astype(float)\r\n",
    "\r\n",
    "##衍生特征，建筑面积-套内面积=公摊面积\r\n",
    "data_jianzhu['公摊面积'] = data_jianzhu['建筑面积']-data_jianzhu['套内面积']\r\n",
    "\r\n",
    "# 计算tag数量\r\n",
    "data_jianzhu['房屋标签数量'] = data_jianzhu['tag'].apply(lambda x:len(x.split(',')))"
   ],
   "outputs": [],
   "metadata": {}
  },
  {
   "cell_type": "code",
   "execution_count": 127,
   "source": [
    "type(data_jianzhu['套内面积'][10])"
   ],
   "outputs": [
    {
     "output_type": "execute_result",
     "data": {
      "text/plain": [
       "numpy.float64"
      ]
     },
     "metadata": {},
     "execution_count": 127
    }
   ],
   "metadata": {}
  },
  {
   "cell_type": "code",
   "execution_count": 128,
   "source": [
    "data_jianzhu[['房屋标签数量','小区楼栋数','房屋图片数量','建筑面积','套内面积','公摊面积']].head()"
   ],
   "outputs": [
    {
     "output_type": "execute_result",
     "data": {
      "text/html": [
       "<div>\n",
       "<style scoped>\n",
       "    .dataframe tbody tr th:only-of-type {\n",
       "        vertical-align: middle;\n",
       "    }\n",
       "\n",
       "    .dataframe tbody tr th {\n",
       "        vertical-align: top;\n",
       "    }\n",
       "\n",
       "    .dataframe thead th {\n",
       "        text-align: right;\n",
       "    }\n",
       "</style>\n",
       "<table border=\"1\" class=\"dataframe\">\n",
       "  <thead>\n",
       "    <tr style=\"text-align: right;\">\n",
       "      <th></th>\n",
       "      <th>房屋标签数量</th>\n",
       "      <th>小区楼栋数</th>\n",
       "      <th>房屋图片数量</th>\n",
       "      <th>建筑面积</th>\n",
       "      <th>套内面积</th>\n",
       "      <th>公摊面积</th>\n",
       "    </tr>\n",
       "  </thead>\n",
       "  <tbody>\n",
       "    <tr>\n",
       "      <th>0</th>\n",
       "      <td>2</td>\n",
       "      <td>6.0</td>\n",
       "      <td>10.0</td>\n",
       "      <td>117.68</td>\n",
       "      <td>NaN</td>\n",
       "      <td>NaN</td>\n",
       "    </tr>\n",
       "    <tr>\n",
       "      <th>1</th>\n",
       "      <td>4</td>\n",
       "      <td>11.0</td>\n",
       "      <td>8.0</td>\n",
       "      <td>102.74</td>\n",
       "      <td>NaN</td>\n",
       "      <td>NaN</td>\n",
       "    </tr>\n",
       "    <tr>\n",
       "      <th>2</th>\n",
       "      <td>2</td>\n",
       "      <td>12.0</td>\n",
       "      <td>9.0</td>\n",
       "      <td>70.39</td>\n",
       "      <td>56.26</td>\n",
       "      <td>14.13</td>\n",
       "    </tr>\n",
       "    <tr>\n",
       "      <th>3</th>\n",
       "      <td>4</td>\n",
       "      <td>6.0</td>\n",
       "      <td>7.0</td>\n",
       "      <td>114.19</td>\n",
       "      <td>99.16</td>\n",
       "      <td>15.03</td>\n",
       "    </tr>\n",
       "    <tr>\n",
       "      <th>4</th>\n",
       "      <td>3</td>\n",
       "      <td>16.0</td>\n",
       "      <td>7.0</td>\n",
       "      <td>100.45</td>\n",
       "      <td>85.30</td>\n",
       "      <td>15.15</td>\n",
       "    </tr>\n",
       "  </tbody>\n",
       "</table>\n",
       "</div>"
      ],
      "text/plain": [
       "   房屋标签数量  小区楼栋数  房屋图片数量    建筑面积   套内面积   公摊面积\n",
       "0       2    6.0    10.0  117.68    NaN    NaN\n",
       "1       4   11.0     8.0  102.74    NaN    NaN\n",
       "2       2   12.0     9.0   70.39  56.26  14.13\n",
       "3       4    6.0     7.0  114.19  99.16  15.03\n",
       "4       3   16.0     7.0  100.45  85.30  15.15"
      ]
     },
     "metadata": {},
     "execution_count": 128
    }
   ],
   "metadata": {}
  },
  {
   "cell_type": "code",
   "execution_count": 129,
   "source": [
    "data_jianzhu.drop('tag',axis=1,inplace=True)"
   ],
   "outputs": [],
   "metadata": {}
  },
  {
   "cell_type": "markdown",
   "source": [
    "## 3.3 户型分间、梯户比例、房屋户型、所在楼层\r\n",
    "\r\n",
    "较复杂，具体特征具体分析"
   ],
   "metadata": {}
  },
  {
   "cell_type": "code",
   "execution_count": 130,
   "source": [
    "data_jianzhu[['户型分间','梯户比例','房屋户型','所在楼层']].head()"
   ],
   "outputs": [
    {
     "output_type": "execute_result",
     "data": {
      "text/html": [
       "<div>\n",
       "<style scoped>\n",
       "    .dataframe tbody tr th:only-of-type {\n",
       "        vertical-align: middle;\n",
       "    }\n",
       "\n",
       "    .dataframe tbody tr th {\n",
       "        vertical-align: top;\n",
       "    }\n",
       "\n",
       "    .dataframe thead th {\n",
       "        text-align: right;\n",
       "    }\n",
       "</style>\n",
       "<table border=\"1\" class=\"dataframe\">\n",
       "  <thead>\n",
       "    <tr style=\"text-align: right;\">\n",
       "      <th></th>\n",
       "      <th>户型分间</th>\n",
       "      <th>梯户比例</th>\n",
       "      <th>房屋户型</th>\n",
       "      <th>所在楼层</th>\n",
       "    </tr>\n",
       "  </thead>\n",
       "  <tbody>\n",
       "    <tr>\n",
       "      <th>0</th>\n",
       "      <td>{'客厅': ['44.05平米', '西 北 南', '普通窗'], '卧室A': ['6...</td>\n",
       "      <td>一梯五户</td>\n",
       "      <td>3室1厅1厨2卫</td>\n",
       "      <td>高楼层 (共12层)</td>\n",
       "    </tr>\n",
       "    <tr>\n",
       "      <th>1</th>\n",
       "      <td>{'客厅': ['25.71平米', '北', '普通窗'], '卧室A': ['8.84平...</td>\n",
       "      <td>一梯五户</td>\n",
       "      <td>4室2厅1厨1卫</td>\n",
       "      <td>中楼层 (共9层)</td>\n",
       "    </tr>\n",
       "    <tr>\n",
       "      <th>2</th>\n",
       "      <td>{'客厅': ['20.3平米', '北', '普通窗'], '卧室A': ['9.6平米'...</td>\n",
       "      <td>三梯十四户</td>\n",
       "      <td>3室1厅1厨1卫</td>\n",
       "      <td>中楼层 (共31层)</td>\n",
       "    </tr>\n",
       "    <tr>\n",
       "      <th>3</th>\n",
       "      <td>{'客厅': ['30.47平米', '南', '普通窗'], '卧室A': ['4.24平...</td>\n",
       "      <td>一梯八户</td>\n",
       "      <td>4室1厅1厨2卫</td>\n",
       "      <td>低楼层 (共12层)</td>\n",
       "    </tr>\n",
       "    <tr>\n",
       "      <th>4</th>\n",
       "      <td>{'客厅': ['28.76平米', '无', '未知窗户类型'], '卧室A': ['6....</td>\n",
       "      <td>两梯六户</td>\n",
       "      <td>3室1厅1厨2卫</td>\n",
       "      <td>低楼层 (共17层)</td>\n",
       "    </tr>\n",
       "  </tbody>\n",
       "</table>\n",
       "</div>"
      ],
      "text/plain": [
       "                                                户型分间   梯户比例      房屋户型  \\\n",
       "0  {'客厅': ['44.05平米', '西 北 南', '普通窗'], '卧室A': ['6...   一梯五户  3室1厅1厨2卫   \n",
       "1  {'客厅': ['25.71平米', '北', '普通窗'], '卧室A': ['8.84平...   一梯五户  4室2厅1厨1卫   \n",
       "2  {'客厅': ['20.3平米', '北', '普通窗'], '卧室A': ['9.6平米'...  三梯十四户  3室1厅1厨1卫   \n",
       "3  {'客厅': ['30.47平米', '南', '普通窗'], '卧室A': ['4.24平...   一梯八户  4室1厅1厨2卫   \n",
       "4  {'客厅': ['28.76平米', '无', '未知窗户类型'], '卧室A': ['6....   两梯六户  3室1厅1厨2卫   \n",
       "\n",
       "         所在楼层  \n",
       "0  高楼层 (共12层)  \n",
       "1   中楼层 (共9层)  \n",
       "2  中楼层 (共31层)  \n",
       "3  低楼层 (共12层)  \n",
       "4  低楼层 (共17层)  "
      ]
     },
     "metadata": {},
     "execution_count": 130
    }
   ],
   "metadata": {}
  },
  {
   "cell_type": "code",
   "execution_count": 131,
   "source": [
    "import cn2an\r\n",
    "import re"
   ],
   "outputs": [],
   "metadata": {}
  },
  {
   "cell_type": "code",
   "execution_count": 132,
   "source": [
    "#梯户比例 将文字转化为比值\r\n",
    "data_jianzhu['梯户比例'].fillna('',inplace=True)\r\n",
    "re1 = re.compile('(.+)梯(.+)户')\r\n",
    "def calculate_ratio(x):\r\n",
    "    ret = re1.findall(x)\r\n",
    "    if ret:\r\n",
    "        ti = cn2an.cn2an(x[0],'smart')\r\n",
    "        hu = cn2an.cn2an(x[0],'smart') # smart模式下能将‘二’和‘两’都转化为 2\r\n",
    "        return ti/hu\r\n",
    "    else:\r\n",
    "        return np.nan\r\n",
    "\r\n",
    "data_jianzhu['梯户比例'] = data_jianzhu['梯户比例'].apply(calculate_ratio)"
   ],
   "outputs": [],
   "metadata": {}
  },
  {
   "cell_type": "code",
   "execution_count": 133,
   "source": [
    "#房屋户型 提取房、厅、厨、卫数量\r\n",
    "re2 = re.compile('\\d+')\r\n",
    "temp = data_jianzhu['房屋户型'].apply(re2.findall)\r\n",
    "data_jianzhu['卧室数量'] = temp.apply(lambda x:x[0]).astype(float)\r\n",
    "data_jianzhu['客厅数量'] = temp.apply(lambda x:x[1]).astype(float)\r\n",
    "data_jianzhu['厨房数量'] = temp.apply(lambda x:x[2]).astype(float)\r\n",
    "data_jianzhu['卫生间数量'] = temp.apply(lambda x:x[3]).astype(float)\r\n",
    "data_jianzhu.drop('房屋户型',axis=1,inplace=True)"
   ],
   "outputs": [],
   "metadata": {}
  },
  {
   "cell_type": "code",
   "execution_count": 134,
   "source": [
    "#所在楼层 提取总层数和楼层高低程度\r\n",
    "re3 = re.compile('.+共(\\d+)层.+')\r\n",
    "data_jianzhu['总层数'] = data_jianzhu['所在楼层'].apply(lambda x:re3.findall(x)[0]).astype(float)\r\n",
    "\r\n",
    "def rep(x):\r\n",
    "    pattern = re.compile(r'\\s\\((.*)\\)')\r\n",
    "    return pattern.sub(r'',x)\r\n",
    "data_jianzhu['所在楼层'] = data_jianzhu['所在楼层'].apply(rep)\r\n",
    "data_jianzhu['所在楼层'] = data_jianzhu['所在楼层'].replace(\"nan\",np.NAN)\r\n",
    "data_jianzhu = pd.concat([data_jianzhu, pd.get_dummies(data_jianzhu[['所在楼层']])], sort=False, axis=1)\r\n",
    "data_jianzhu.drop('所在楼层',axis=1,inplace=True)"
   ],
   "outputs": [],
   "metadata": {}
  },
  {
   "cell_type": "code",
   "execution_count": 135,
   "source": [
    "# 户型分间\r\n",
    "print(data_jianzhu['户型分间'][0])\r\n",
    "print(data_jianzhu['户型分间'][1])"
   ],
   "outputs": [
    {
     "output_type": "stream",
     "name": "stdout",
     "text": [
      "{'客厅': ['44.05平米', '西 北 南', '普通窗'], '卧室A': ['6.23平米', '无', '无窗'], '卧室B': ['12.59平米', '西 南', '落地飘窗'], '卧室C': ['9.03平米', '西', '落地飘窗'], '厨房': ['7.8平米', '南', '普通窗'], '卫A': ['3.01平米', '西', '普通窗'], '卫B': ['2.69平米', '西', '普通窗'], '阳台A': ['7.31平米', '南', '普通窗'], '阳台B': ['3.95平米', '西 北', '普通窗'], '储物间': ['2.32平米', '无', '无窗'], '入户花园': ['9.62平米', '西', '普通窗']}\n",
      "{'客厅': ['25.71平米', '北', '普通窗'], '卧室A': ['8.84平米', '北', '普通窗'], '卧室B': ['10.45平米', '北 东', '普通窗'], '卧室C': ['11.95平米', '东', '普通窗'], '卧室D': ['7.64平米', '南', '普通窗'], '厨房': ['5.77平米', '北', '普通窗'], '卫': ['4.71平米', '无', '无窗'], '阳台': ['4.3平米', '北', '普通窗'], '过道': ['4.27平米', '无', '无窗']}\n"
     ]
    }
   ],
   "metadata": {}
  },
  {
   "cell_type": "markdown",
   "source": [
    "### 户型分间衍生以下特征\r\n",
    "- 1.客厅面积占比\r\n",
    "- 2.卧室面积占比\r\n",
    "- 3.实际使用面积\r\n",
    "- 4.落地窗数量\r\n",
    "- 5.有无储物间\r\n",
    "- 6.有无入室花园\r\n",
    "- 7.窗户数量\r\n",
    "- 8.平均卧室面积\r\n",
    "- 9.客厅、卧室、阳台朝向，采光等级"
   ],
   "metadata": {}
  },
  {
   "cell_type": "code",
   "execution_count": 136,
   "source": [
    "data_jianzhu['户型分间'].replace('{}',np.nan,inplace=True)"
   ],
   "outputs": [],
   "metadata": {}
  },
  {
   "cell_type": "code",
   "execution_count": 137,
   "source": [
    "index = data_jianzhu['户型分间'].notnull()"
   ],
   "outputs": [],
   "metadata": {}
  },
  {
   "cell_type": "code",
   "execution_count": 138,
   "source": [
    "data_jianzhu.loc[index,'是否有储物间'] = data_jianzhu.loc[index,'户型分间'].apply(lambda x:1 if '储物间' in x else 0)\r\n",
    "data_jianzhu.loc[index,'是否有入户花园'] = data_jianzhu.loc[index,'户型分间'].apply(lambda x:1 if '入户花园' in x else 0)"
   ],
   "outputs": [],
   "metadata": {}
  },
  {
   "cell_type": "code",
   "execution_count": 139,
   "source": [
    "data_jianzhu.loc[index,'窗户数量'] = data_jianzhu.loc[index,'户型分间'].apply(lambda x:x.count('窗')-x.count('无窗'))\r\n",
    "data_jianzhu.loc[index,'落地窗数量'] = data_jianzhu.loc[index,'户型分间'].apply(lambda x:x.count('落地'))"
   ],
   "outputs": [],
   "metadata": {}
  },
  {
   "cell_type": "code",
   "execution_count": 140,
   "source": [
    "#朝向以等级分级\r\n",
    "#南＞东南=西南＞东=西＞东北=西北＞北\r\n",
    "rank_direction = {\r\n",
    "    '南':5,\r\n",
    "    '东南':4,\r\n",
    "    '西南':4,\r\n",
    "    '东':3,\r\n",
    "    '西':3,\r\n",
    "    '东北':2,\r\n",
    "    '西北':2,\r\n",
    "    '北':1,\r\n",
    "    '无':np.nan\r\n",
    "}\r\n",
    "\r\n",
    "def change_direct(x):\r\n",
    "    for k,j in rank_direction.items():\r\n",
    "        if k in x:\r\n",
    "            return j"
   ],
   "outputs": [],
   "metadata": {}
  },
  {
   "cell_type": "code",
   "execution_count": 141,
   "source": [
    "act_area = []           # 实际使用面积\r\n",
    "livingroom_bili = []    # 客厅面积比例\r\n",
    "bedroom_bili = []       # 卧室面积比例\r\n",
    "bedroom_avg_area = []   # 卧室平均面积\r\n",
    "livingroom_light = []   # 客厅采光等级\r\n",
    "bedroom_light = []      # 卧室采光等级\r\n",
    "balcony_light = []      # 阳台采光等级\r\n",
    "\r\n",
    "for item in data_jianzhu.loc[index,'户型分间']:\r\n",
    "    item=eval(item)    # 转换为字典\r\n",
    "    df2=pd.DataFrame(item)\r\n",
    "    df3=df2.filter(regex='客厅')\r\n",
    "    df4=df2.filter(regex='卧室')\r\n",
    "    df5=df2.filter(regex='阳台')\r\n",
    "\r\n",
    "    using_area=0\r\n",
    "    for p in df2.iloc[0]:\r\n",
    "        p=p.split('平')\r\n",
    "        p=np.double(p[0])\r\n",
    "        using_area=using_area+p\r\n",
    "    act_area.append(using_area)\r\n",
    "\r\n",
    "    livingroom_sum=0\r\n",
    "    for p in df3.iloc[0]:\r\n",
    "        p=p.split('平')\r\n",
    "        p=np.double(p[0])\r\n",
    "        livingroom_sum=livingroom_sum+p\r\n",
    "    livingroom_bili.append(np.double(livingroom_sum/using_area))\r\n",
    "\r\n",
    "    room_sum=0\r\n",
    "    for p in df4.iloc[0]:\r\n",
    "        p=p.split('平')\r\n",
    "        p=np.double(p[0])\r\n",
    "        room_sum=room_sum+p\r\n",
    "    bedroom_bili.append(np.double(room_sum/using_area))\r\n",
    "    \r\n",
    "    m=df4.shape[1]\r\n",
    "    if m!=0:\r\n",
    "        room_ave=room_sum/m\r\n",
    "    else:\r\n",
    "        room_ave=0\r\n",
    "    bedroom_avg_area.append(room_ave)\r\n",
    "    \r\n",
    "    #房屋朝向等级\r\n",
    "    #客厅\r\n",
    "    try:\r\n",
    "        livingroom_light.append(change_direct(df3['客厅'][1]))\r\n",
    "    except:\r\n",
    "        livingroom_light.append(np.nan)\r\n",
    "    #主卧\r\n",
    "    try:\r\n",
    "        x1 = df4.iloc[1,np.argmax(df4.loc[0,:].apply(lambda x:x[:-2]).astype(float))]\r\n",
    "        bedroom_light.append(change_direct(x1))\r\n",
    "    except:\r\n",
    "        bedroom_light.append(np.nan)\r\n",
    "    #主阳台\r\n",
    "    try:\r\n",
    "        x1 = df5.iloc[1,np.argmax(df5.loc[0,:].apply(lambda x:x[:-2]).astype(float))]\r\n",
    "        balcony_light.append(change_direct(x1))\r\n",
    "    except:\r\n",
    "        balcony_light.append(np.nan)"
   ],
   "outputs": [],
   "metadata": {}
  },
  {
   "cell_type": "code",
   "execution_count": 142,
   "source": [
    "data_jianzhu.loc[index,'客厅面积占比'] = livingroom_bili\r\n",
    "data_jianzhu.loc[index,'实际使用面积'] = act_area\r\n",
    "data_jianzhu.loc[index,'平均卧室面积'] = bedroom_avg_area\r\n",
    "data_jianzhu.loc[index,'卧室面积占比'] = bedroom_bili\r\n",
    "data_jianzhu.loc[index,'客厅采光程度'] = livingroom_light\r\n",
    "data_jianzhu.loc[index,'主卧采光程度'] = bedroom_light\r\n",
    "data_jianzhu.loc[index,'阳台采光程度'] = balcony_light\r\n",
    "\r\n",
    "data_jianzhu.drop('户型分间',axis=1,inplace=True)"
   ],
   "outputs": [],
   "metadata": {}
  },
  {
   "cell_type": "code",
   "execution_count": 143,
   "source": [
    "data_jianzhu.iloc[:,-20:]"
   ],
   "outputs": [
    {
     "output_type": "execute_result",
     "data": {
      "text/html": [
       "<div>\n",
       "<style scoped>\n",
       "    .dataframe tbody tr th:only-of-type {\n",
       "        vertical-align: middle;\n",
       "    }\n",
       "\n",
       "    .dataframe tbody tr th {\n",
       "        vertical-align: top;\n",
       "    }\n",
       "\n",
       "    .dataframe thead th {\n",
       "        text-align: right;\n",
       "    }\n",
       "</style>\n",
       "<table border=\"1\" class=\"dataframe\">\n",
       "  <thead>\n",
       "    <tr style=\"text-align: right;\">\n",
       "      <th></th>\n",
       "      <th>卧室数量</th>\n",
       "      <th>客厅数量</th>\n",
       "      <th>厨房数量</th>\n",
       "      <th>卫生间数量</th>\n",
       "      <th>总层数</th>\n",
       "      <th>中楼层</th>\n",
       "      <th>低楼层</th>\n",
       "      <th>地下室</th>\n",
       "      <th>高楼层</th>\n",
       "      <th>是否有储物间</th>\n",
       "      <th>是否有入户花园</th>\n",
       "      <th>窗户数量</th>\n",
       "      <th>落地窗数量</th>\n",
       "      <th>客厅面积占比</th>\n",
       "      <th>实际使用面积</th>\n",
       "      <th>平均卧室面积</th>\n",
       "      <th>卧室面积占比</th>\n",
       "      <th>客厅采光程度</th>\n",
       "      <th>主卧采光程度</th>\n",
       "      <th>阳台采光程度</th>\n",
       "    </tr>\n",
       "  </thead>\n",
       "  <tbody>\n",
       "    <tr>\n",
       "      <th>0</th>\n",
       "      <td>3.0</td>\n",
       "      <td>1.0</td>\n",
       "      <td>1.0</td>\n",
       "      <td>2.0</td>\n",
       "      <td>12.0</td>\n",
       "      <td>0</td>\n",
       "      <td>0</td>\n",
       "      <td>0</td>\n",
       "      <td>1</td>\n",
       "      <td>1.0</td>\n",
       "      <td>1.0</td>\n",
       "      <td>9.0</td>\n",
       "      <td>2.0</td>\n",
       "      <td>0.405617</td>\n",
       "      <td>108.60</td>\n",
       "      <td>9.283333</td>\n",
       "      <td>0.256446</td>\n",
       "      <td>5.0</td>\n",
       "      <td>5.0</td>\n",
       "      <td>5.0</td>\n",
       "    </tr>\n",
       "    <tr>\n",
       "      <th>1</th>\n",
       "      <td>4.0</td>\n",
       "      <td>2.0</td>\n",
       "      <td>1.0</td>\n",
       "      <td>1.0</td>\n",
       "      <td>9.0</td>\n",
       "      <td>1</td>\n",
       "      <td>0</td>\n",
       "      <td>0</td>\n",
       "      <td>0</td>\n",
       "      <td>0.0</td>\n",
       "      <td>0.0</td>\n",
       "      <td>7.0</td>\n",
       "      <td>0.0</td>\n",
       "      <td>0.307389</td>\n",
       "      <td>83.64</td>\n",
       "      <td>9.720000</td>\n",
       "      <td>0.464849</td>\n",
       "      <td>1.0</td>\n",
       "      <td>3.0</td>\n",
       "      <td>1.0</td>\n",
       "    </tr>\n",
       "    <tr>\n",
       "      <th>2</th>\n",
       "      <td>3.0</td>\n",
       "      <td>1.0</td>\n",
       "      <td>1.0</td>\n",
       "      <td>1.0</td>\n",
       "      <td>31.0</td>\n",
       "      <td>1</td>\n",
       "      <td>0</td>\n",
       "      <td>0</td>\n",
       "      <td>0</td>\n",
       "      <td>0.0</td>\n",
       "      <td>0.0</td>\n",
       "      <td>8.0</td>\n",
       "      <td>0.0</td>\n",
       "      <td>0.356140</td>\n",
       "      <td>57.00</td>\n",
       "      <td>8.360000</td>\n",
       "      <td>0.440000</td>\n",
       "      <td>1.0</td>\n",
       "      <td>NaN</td>\n",
       "      <td>3.0</td>\n",
       "    </tr>\n",
       "    <tr>\n",
       "      <th>3</th>\n",
       "      <td>4.0</td>\n",
       "      <td>1.0</td>\n",
       "      <td>1.0</td>\n",
       "      <td>2.0</td>\n",
       "      <td>12.0</td>\n",
       "      <td>0</td>\n",
       "      <td>1</td>\n",
       "      <td>0</td>\n",
       "      <td>0</td>\n",
       "      <td>0.0</td>\n",
       "      <td>0.0</td>\n",
       "      <td>9.0</td>\n",
       "      <td>0.0</td>\n",
       "      <td>0.358555</td>\n",
       "      <td>84.98</td>\n",
       "      <td>8.597500</td>\n",
       "      <td>0.404683</td>\n",
       "      <td>5.0</td>\n",
       "      <td>NaN</td>\n",
       "      <td>5.0</td>\n",
       "    </tr>\n",
       "    <tr>\n",
       "      <th>4</th>\n",
       "      <td>3.0</td>\n",
       "      <td>1.0</td>\n",
       "      <td>1.0</td>\n",
       "      <td>2.0</td>\n",
       "      <td>17.0</td>\n",
       "      <td>0</td>\n",
       "      <td>1</td>\n",
       "      <td>0</td>\n",
       "      <td>0</td>\n",
       "      <td>0.0</td>\n",
       "      <td>0.0</td>\n",
       "      <td>9.0</td>\n",
       "      <td>1.0</td>\n",
       "      <td>0.365624</td>\n",
       "      <td>78.66</td>\n",
       "      <td>9.190000</td>\n",
       "      <td>0.350496</td>\n",
       "      <td>NaN</td>\n",
       "      <td>5.0</td>\n",
       "      <td>5.0</td>\n",
       "    </tr>\n",
       "    <tr>\n",
       "      <th>...</th>\n",
       "      <td>...</td>\n",
       "      <td>...</td>\n",
       "      <td>...</td>\n",
       "      <td>...</td>\n",
       "      <td>...</td>\n",
       "      <td>...</td>\n",
       "      <td>...</td>\n",
       "      <td>...</td>\n",
       "      <td>...</td>\n",
       "      <td>...</td>\n",
       "      <td>...</td>\n",
       "      <td>...</td>\n",
       "      <td>...</td>\n",
       "      <td>...</td>\n",
       "      <td>...</td>\n",
       "      <td>...</td>\n",
       "      <td>...</td>\n",
       "      <td>...</td>\n",
       "      <td>...</td>\n",
       "      <td>...</td>\n",
       "    </tr>\n",
       "    <tr>\n",
       "      <th>33131</th>\n",
       "      <td>2.0</td>\n",
       "      <td>2.0</td>\n",
       "      <td>1.0</td>\n",
       "      <td>1.0</td>\n",
       "      <td>6.0</td>\n",
       "      <td>0</td>\n",
       "      <td>1</td>\n",
       "      <td>0</td>\n",
       "      <td>0</td>\n",
       "      <td>0.0</td>\n",
       "      <td>0.0</td>\n",
       "      <td>7.0</td>\n",
       "      <td>0.0</td>\n",
       "      <td>0.439674</td>\n",
       "      <td>56.36</td>\n",
       "      <td>9.635000</td>\n",
       "      <td>0.341909</td>\n",
       "      <td>5.0</td>\n",
       "      <td>3.0</td>\n",
       "      <td>3.0</td>\n",
       "    </tr>\n",
       "    <tr>\n",
       "      <th>33132</th>\n",
       "      <td>2.0</td>\n",
       "      <td>1.0</td>\n",
       "      <td>1.0</td>\n",
       "      <td>1.0</td>\n",
       "      <td>6.0</td>\n",
       "      <td>1</td>\n",
       "      <td>0</td>\n",
       "      <td>0</td>\n",
       "      <td>0</td>\n",
       "      <td>0.0</td>\n",
       "      <td>0.0</td>\n",
       "      <td>7.0</td>\n",
       "      <td>0.0</td>\n",
       "      <td>0.426953</td>\n",
       "      <td>69.75</td>\n",
       "      <td>12.060000</td>\n",
       "      <td>0.345806</td>\n",
       "      <td>5.0</td>\n",
       "      <td>NaN</td>\n",
       "      <td>3.0</td>\n",
       "    </tr>\n",
       "    <tr>\n",
       "      <th>33133</th>\n",
       "      <td>2.0</td>\n",
       "      <td>2.0</td>\n",
       "      <td>1.0</td>\n",
       "      <td>1.0</td>\n",
       "      <td>6.0</td>\n",
       "      <td>1</td>\n",
       "      <td>0</td>\n",
       "      <td>0</td>\n",
       "      <td>0</td>\n",
       "      <td>NaN</td>\n",
       "      <td>NaN</td>\n",
       "      <td>NaN</td>\n",
       "      <td>NaN</td>\n",
       "      <td>NaN</td>\n",
       "      <td>NaN</td>\n",
       "      <td>NaN</td>\n",
       "      <td>NaN</td>\n",
       "      <td>NaN</td>\n",
       "      <td>NaN</td>\n",
       "      <td>NaN</td>\n",
       "    </tr>\n",
       "    <tr>\n",
       "      <th>33134</th>\n",
       "      <td>3.0</td>\n",
       "      <td>2.0</td>\n",
       "      <td>1.0</td>\n",
       "      <td>2.0</td>\n",
       "      <td>4.0</td>\n",
       "      <td>0</td>\n",
       "      <td>1</td>\n",
       "      <td>0</td>\n",
       "      <td>0</td>\n",
       "      <td>0.0</td>\n",
       "      <td>0.0</td>\n",
       "      <td>5.0</td>\n",
       "      <td>0.0</td>\n",
       "      <td>0.299356</td>\n",
       "      <td>102.42</td>\n",
       "      <td>12.926667</td>\n",
       "      <td>0.378637</td>\n",
       "      <td>NaN</td>\n",
       "      <td>3.0</td>\n",
       "      <td>NaN</td>\n",
       "    </tr>\n",
       "    <tr>\n",
       "      <th>33135</th>\n",
       "      <td>2.0</td>\n",
       "      <td>2.0</td>\n",
       "      <td>1.0</td>\n",
       "      <td>1.0</td>\n",
       "      <td>6.0</td>\n",
       "      <td>0</td>\n",
       "      <td>1</td>\n",
       "      <td>0</td>\n",
       "      <td>0</td>\n",
       "      <td>NaN</td>\n",
       "      <td>NaN</td>\n",
       "      <td>NaN</td>\n",
       "      <td>NaN</td>\n",
       "      <td>NaN</td>\n",
       "      <td>NaN</td>\n",
       "      <td>NaN</td>\n",
       "      <td>NaN</td>\n",
       "      <td>NaN</td>\n",
       "      <td>NaN</td>\n",
       "      <td>NaN</td>\n",
       "    </tr>\n",
       "  </tbody>\n",
       "</table>\n",
       "<p>33136 rows × 20 columns</p>\n",
       "</div>"
      ],
      "text/plain": [
       "       卧室数量  客厅数量  厨房数量  卫生间数量   总层数  中楼层  低楼层  地下室  高楼层  是否有储物间  是否有入户花园  \\\n",
       "0       3.0   1.0   1.0    2.0  12.0    0    0    0    1     1.0      1.0   \n",
       "1       4.0   2.0   1.0    1.0   9.0    1    0    0    0     0.0      0.0   \n",
       "2       3.0   1.0   1.0    1.0  31.0    1    0    0    0     0.0      0.0   \n",
       "3       4.0   1.0   1.0    2.0  12.0    0    1    0    0     0.0      0.0   \n",
       "4       3.0   1.0   1.0    2.0  17.0    0    1    0    0     0.0      0.0   \n",
       "...     ...   ...   ...    ...   ...  ...  ...  ...  ...     ...      ...   \n",
       "33131   2.0   2.0   1.0    1.0   6.0    0    1    0    0     0.0      0.0   \n",
       "33132   2.0   1.0   1.0    1.0   6.0    1    0    0    0     0.0      0.0   \n",
       "33133   2.0   2.0   1.0    1.0   6.0    1    0    0    0     NaN      NaN   \n",
       "33134   3.0   2.0   1.0    2.0   4.0    0    1    0    0     0.0      0.0   \n",
       "33135   2.0   2.0   1.0    1.0   6.0    0    1    0    0     NaN      NaN   \n",
       "\n",
       "       窗户数量  落地窗数量    客厅面积占比  实际使用面积     平均卧室面积    卧室面积占比  客厅采光程度  主卧采光程度  \\\n",
       "0       9.0    2.0  0.405617  108.60   9.283333  0.256446     5.0     5.0   \n",
       "1       7.0    0.0  0.307389   83.64   9.720000  0.464849     1.0     3.0   \n",
       "2       8.0    0.0  0.356140   57.00   8.360000  0.440000     1.0     NaN   \n",
       "3       9.0    0.0  0.358555   84.98   8.597500  0.404683     5.0     NaN   \n",
       "4       9.0    1.0  0.365624   78.66   9.190000  0.350496     NaN     5.0   \n",
       "...     ...    ...       ...     ...        ...       ...     ...     ...   \n",
       "33131   7.0    0.0  0.439674   56.36   9.635000  0.341909     5.0     3.0   \n",
       "33132   7.0    0.0  0.426953   69.75  12.060000  0.345806     5.0     NaN   \n",
       "33133   NaN    NaN       NaN     NaN        NaN       NaN     NaN     NaN   \n",
       "33134   5.0    0.0  0.299356  102.42  12.926667  0.378637     NaN     3.0   \n",
       "33135   NaN    NaN       NaN     NaN        NaN       NaN     NaN     NaN   \n",
       "\n",
       "       阳台采光程度  \n",
       "0         5.0  \n",
       "1         1.0  \n",
       "2         3.0  \n",
       "3         5.0  \n",
       "4         5.0  \n",
       "...       ...  \n",
       "33131     3.0  \n",
       "33132     3.0  \n",
       "33133     NaN  \n",
       "33134     NaN  \n",
       "33135     NaN  \n",
       "\n",
       "[33136 rows x 20 columns]"
      ]
     },
     "metadata": {},
     "execution_count": 143
    }
   ],
   "metadata": {}
  },
  {
   "cell_type": "markdown",
   "source": [
    "## 3.4 小区建筑类型、户型结构、房屋建筑类型、建筑结构、装修情况、有无配备电梯、房屋朝向、所在楼层\r\n",
    "\r\n",
    "小区建筑类型无用删除，房屋朝向与前面特征重复删除，其他特征为类别特征，进行编码"
   ],
   "metadata": {}
  },
  {
   "cell_type": "code",
   "execution_count": 144,
   "source": [
    "data_jianzhu['小区建筑类型'].unique()"
   ],
   "outputs": [
    {
     "output_type": "execute_result",
     "data": {
      "text/plain": [
       "array(['塔楼', '塔楼/塔板结合', '塔楼/塔板结合/平房', '板楼', '塔楼/板楼', '塔楼/板楼/塔板结合', '塔板结合',\n",
       "       '塔楼/板楼/平房', '塔楼/板楼/塔板结合/平房', '塔楼/平房', '未知', '塔板结合/平房', '板楼/塔板结合',\n",
       "       '平房', '板楼/平房', nan], dtype=object)"
      ]
     },
     "metadata": {},
     "execution_count": 144
    }
   ],
   "metadata": {}
  },
  {
   "cell_type": "code",
   "execution_count": 145,
   "source": [
    "data_jianzhu['房屋朝向'][1000:1005]"
   ],
   "outputs": [
    {
     "output_type": "execute_result",
     "data": {
      "text/plain": [
       "1000      北\n",
       "1001      南\n",
       "1002     东南\n",
       "1003    南 北\n",
       "1004      南\n",
       "Name: 房屋朝向, dtype: object"
      ]
     },
     "metadata": {},
     "execution_count": 145
    }
   ],
   "metadata": {}
  },
  {
   "cell_type": "code",
   "execution_count": 146,
   "source": [
    "data_jianzhu.drop(['小区建筑类型','房屋朝向'],axis=1,inplace=True)"
   ],
   "outputs": [],
   "metadata": {}
  },
  {
   "cell_type": "code",
   "execution_count": 147,
   "source": [
    "data_jianzhu['户型结构'].unique()"
   ],
   "outputs": [
    {
     "output_type": "execute_result",
     "data": {
      "text/plain": [
       "array(['平层', '复式', '暂无数据', nan, '错层', '跃层'], dtype=object)"
      ]
     },
     "metadata": {},
     "execution_count": 147
    }
   ],
   "metadata": {}
  },
  {
   "cell_type": "code",
   "execution_count": 148,
   "source": [
    "data_jianzhu['建筑类型'].unique()"
   ],
   "outputs": [
    {
     "output_type": "execute_result",
     "data": {
      "text/plain": [
       "array(['塔楼', '板楼', '板塔结合', '平房', '暂无数据', nan], dtype=object)"
      ]
     },
     "metadata": {},
     "execution_count": 148
    }
   ],
   "metadata": {}
  },
  {
   "cell_type": "code",
   "execution_count": 149,
   "source": [
    "#户型结构、建筑类型（为无序特征）：使用onehot编码\r\n",
    "\r\n",
    "data_jianzhu['户型结构'].replace('暂无数据',np.nan,inplace=True)\r\n",
    "data_jianzhu['建筑类型'].replace('暂无数据',np.nan,inplace=True)\r\n",
    "data_jianzhu = pd.concat([data_jianzhu,pd.get_dummies(data_jianzhu[['户型结构']])], sort=False, axis=1)\r\n",
    "data_jianzhu = pd.concat([data_jianzhu,pd.get_dummies(data_jianzhu[['建筑类型']])], sort=False, axis=1)\r\n",
    "data_jianzhu.drop(['户型结构','建筑类型'],axis=1,inplace=True)"
   ],
   "outputs": [],
   "metadata": {}
  },
  {
   "cell_type": "code",
   "execution_count": 150,
   "source": [
    "#建筑结构、装修情况：定义等级后编码\r\n",
    "data_jianzhu['建筑结构'].replace(\"未知结构\",np.NAN,inplace=True)\r\n",
    "jiegou_mapping = {\r\n",
    "           '钢结构': 6,\r\n",
    "           '钢混结构':5,\r\n",
    "           '框架结构':4,\r\n",
    "           '混合结构':3,\r\n",
    "           '砖混结构':2,\r\n",
    "           '砖木结构':1}\r\n",
    "data_jianzhu['建筑结构'] = data_jianzhu['建筑结构'].map(jiegou_mapping)\r\n",
    "\r\n",
    "data_jianzhu['装修情况'].replace(\"其他\",np.NAN,inplace=True)\r\n",
    "zhuangxiu_mapping = {\r\n",
    "    '精装':3,\r\n",
    "    '简装':2,\r\n",
    "    '毛坯':1\r\n",
    "}\r\n",
    "data_jianzhu['装修情况'] = data_jianzhu['装修情况'].map(zhuangxiu_mapping)\r\n",
    "#电梯二值化处理\r\n",
    "data_jianzhu['配备电梯'].replace({\"暂无数据\":np.NAN,'有':1,'无':0},inplace=True)"
   ],
   "outputs": [],
   "metadata": {}
  },
  {
   "cell_type": "code",
   "execution_count": 160,
   "source": [
    "data_jianzhu[['建筑结构','装修情况','配备电梯']].head()"
   ],
   "outputs": [
    {
     "output_type": "execute_result",
     "data": {
      "text/html": [
       "<div>\n",
       "<style scoped>\n",
       "    .dataframe tbody tr th:only-of-type {\n",
       "        vertical-align: middle;\n",
       "    }\n",
       "\n",
       "    .dataframe tbody tr th {\n",
       "        vertical-align: top;\n",
       "    }\n",
       "\n",
       "    .dataframe thead th {\n",
       "        text-align: right;\n",
       "    }\n",
       "</style>\n",
       "<table border=\"1\" class=\"dataframe\">\n",
       "  <thead>\n",
       "    <tr style=\"text-align: right;\">\n",
       "      <th></th>\n",
       "      <th>建筑结构</th>\n",
       "      <th>装修情况</th>\n",
       "      <th>配备电梯</th>\n",
       "    </tr>\n",
       "  </thead>\n",
       "  <tbody>\n",
       "    <tr>\n",
       "      <th>0</th>\n",
       "      <td>5.0</td>\n",
       "      <td>3.0</td>\n",
       "      <td>1.0</td>\n",
       "    </tr>\n",
       "    <tr>\n",
       "      <th>1</th>\n",
       "      <td>5.0</td>\n",
       "      <td>3.0</td>\n",
       "      <td>1.0</td>\n",
       "    </tr>\n",
       "    <tr>\n",
       "      <th>2</th>\n",
       "      <td>5.0</td>\n",
       "      <td>3.0</td>\n",
       "      <td>1.0</td>\n",
       "    </tr>\n",
       "    <tr>\n",
       "      <th>3</th>\n",
       "      <td>5.0</td>\n",
       "      <td>2.0</td>\n",
       "      <td>1.0</td>\n",
       "    </tr>\n",
       "    <tr>\n",
       "      <th>4</th>\n",
       "      <td>5.0</td>\n",
       "      <td>2.0</td>\n",
       "      <td>1.0</td>\n",
       "    </tr>\n",
       "  </tbody>\n",
       "</table>\n",
       "</div>"
      ],
      "text/plain": [
       "   建筑结构  装修情况  配备电梯\n",
       "0   5.0   3.0   1.0\n",
       "1   5.0   3.0   1.0\n",
       "2   5.0   3.0   1.0\n",
       "3   5.0   2.0   1.0\n",
       "4   5.0   2.0   1.0"
      ]
     },
     "metadata": {},
     "execution_count": 160
    }
   ],
   "metadata": {}
  },
  {
   "cell_type": "code",
   "execution_count": 161,
   "source": [
    "data_jianzhu.iloc[:,-8:]"
   ],
   "outputs": [
    {
     "output_type": "execute_result",
     "data": {
      "text/html": [
       "<div>\n",
       "<style scoped>\n",
       "    .dataframe tbody tr th:only-of-type {\n",
       "        vertical-align: middle;\n",
       "    }\n",
       "\n",
       "    .dataframe tbody tr th {\n",
       "        vertical-align: top;\n",
       "    }\n",
       "\n",
       "    .dataframe thead th {\n",
       "        text-align: right;\n",
       "    }\n",
       "</style>\n",
       "<table border=\"1\" class=\"dataframe\">\n",
       "  <thead>\n",
       "    <tr style=\"text-align: right;\">\n",
       "      <th></th>\n",
       "      <th>复式</th>\n",
       "      <th>平层</th>\n",
       "      <th>跃层</th>\n",
       "      <th>错层</th>\n",
       "      <th>塔楼</th>\n",
       "      <th>平房</th>\n",
       "      <th>板塔结合</th>\n",
       "      <th>板楼</th>\n",
       "    </tr>\n",
       "  </thead>\n",
       "  <tbody>\n",
       "    <tr>\n",
       "      <th>0</th>\n",
       "      <td>0</td>\n",
       "      <td>1</td>\n",
       "      <td>0</td>\n",
       "      <td>0</td>\n",
       "      <td>1</td>\n",
       "      <td>0</td>\n",
       "      <td>0</td>\n",
       "      <td>0</td>\n",
       "    </tr>\n",
       "    <tr>\n",
       "      <th>1</th>\n",
       "      <td>0</td>\n",
       "      <td>1</td>\n",
       "      <td>0</td>\n",
       "      <td>0</td>\n",
       "      <td>1</td>\n",
       "      <td>0</td>\n",
       "      <td>0</td>\n",
       "      <td>0</td>\n",
       "    </tr>\n",
       "    <tr>\n",
       "      <th>2</th>\n",
       "      <td>0</td>\n",
       "      <td>1</td>\n",
       "      <td>0</td>\n",
       "      <td>0</td>\n",
       "      <td>1</td>\n",
       "      <td>0</td>\n",
       "      <td>0</td>\n",
       "      <td>0</td>\n",
       "    </tr>\n",
       "    <tr>\n",
       "      <th>3</th>\n",
       "      <td>0</td>\n",
       "      <td>1</td>\n",
       "      <td>0</td>\n",
       "      <td>0</td>\n",
       "      <td>1</td>\n",
       "      <td>0</td>\n",
       "      <td>0</td>\n",
       "      <td>0</td>\n",
       "    </tr>\n",
       "    <tr>\n",
       "      <th>4</th>\n",
       "      <td>0</td>\n",
       "      <td>1</td>\n",
       "      <td>0</td>\n",
       "      <td>0</td>\n",
       "      <td>1</td>\n",
       "      <td>0</td>\n",
       "      <td>0</td>\n",
       "      <td>0</td>\n",
       "    </tr>\n",
       "    <tr>\n",
       "      <th>...</th>\n",
       "      <td>...</td>\n",
       "      <td>...</td>\n",
       "      <td>...</td>\n",
       "      <td>...</td>\n",
       "      <td>...</td>\n",
       "      <td>...</td>\n",
       "      <td>...</td>\n",
       "      <td>...</td>\n",
       "    </tr>\n",
       "    <tr>\n",
       "      <th>33131</th>\n",
       "      <td>0</td>\n",
       "      <td>1</td>\n",
       "      <td>0</td>\n",
       "      <td>0</td>\n",
       "      <td>0</td>\n",
       "      <td>0</td>\n",
       "      <td>0</td>\n",
       "      <td>1</td>\n",
       "    </tr>\n",
       "    <tr>\n",
       "      <th>33132</th>\n",
       "      <td>0</td>\n",
       "      <td>1</td>\n",
       "      <td>0</td>\n",
       "      <td>0</td>\n",
       "      <td>0</td>\n",
       "      <td>0</td>\n",
       "      <td>0</td>\n",
       "      <td>1</td>\n",
       "    </tr>\n",
       "    <tr>\n",
       "      <th>33133</th>\n",
       "      <td>0</td>\n",
       "      <td>0</td>\n",
       "      <td>0</td>\n",
       "      <td>0</td>\n",
       "      <td>0</td>\n",
       "      <td>0</td>\n",
       "      <td>0</td>\n",
       "      <td>1</td>\n",
       "    </tr>\n",
       "    <tr>\n",
       "      <th>33134</th>\n",
       "      <td>0</td>\n",
       "      <td>1</td>\n",
       "      <td>0</td>\n",
       "      <td>0</td>\n",
       "      <td>0</td>\n",
       "      <td>0</td>\n",
       "      <td>0</td>\n",
       "      <td>1</td>\n",
       "    </tr>\n",
       "    <tr>\n",
       "      <th>33135</th>\n",
       "      <td>0</td>\n",
       "      <td>0</td>\n",
       "      <td>0</td>\n",
       "      <td>0</td>\n",
       "      <td>0</td>\n",
       "      <td>0</td>\n",
       "      <td>0</td>\n",
       "      <td>1</td>\n",
       "    </tr>\n",
       "  </tbody>\n",
       "</table>\n",
       "<p>33136 rows × 8 columns</p>\n",
       "</div>"
      ],
      "text/plain": [
       "       复式  平层  跃层  错层  塔楼  平房  板塔结合  板楼\n",
       "0       0   1   0   0   1   0     0   0\n",
       "1       0   1   0   0   1   0     0   0\n",
       "2       0   1   0   0   1   0     0   0\n",
       "3       0   1   0   0   1   0     0   0\n",
       "4       0   1   0   0   1   0     0   0\n",
       "...    ..  ..  ..  ..  ..  ..   ...  ..\n",
       "33131   0   1   0   0   0   0     0   1\n",
       "33132   0   1   0   0   0   0     0   1\n",
       "33133   0   0   0   0   0   0     0   1\n",
       "33134   0   1   0   0   0   0     0   1\n",
       "33135   0   0   0   0   0   0     0   1\n",
       "\n",
       "[33136 rows x 8 columns]"
      ]
     },
     "metadata": {},
     "execution_count": 161
    }
   ],
   "metadata": {}
  },
  {
   "cell_type": "code",
   "execution_count": 153,
   "source": [
    "data_jianzhu.info()"
   ],
   "outputs": [
    {
     "output_type": "stream",
     "name": "stdout",
     "text": [
      "<class 'pandas.core.frame.DataFrame'>\n",
      "RangeIndex: 33136 entries, 0 to 33135\n",
      "Data columns (total 40 columns):\n",
      " #   Column    Non-Null Count  Dtype  \n",
      "---  ------    --------------  -----  \n",
      " 0   小区楼栋数     33127 non-null  float64\n",
      " 1   房屋图片数量    32552 non-null  float64\n",
      " 2   建筑面积      33136 non-null  float64\n",
      " 3   套内面积      17591 non-null  float64\n",
      " 4   梯户比例      32738 non-null  float64\n",
      " 5   建筑结构      32617 non-null  float64\n",
      " 6   装修情况      25110 non-null  float64\n",
      " 7   配备电梯      31431 non-null  float64\n",
      " 8   建楼距今年数    22977 non-null  float64\n",
      " 9   小区建成距今年数  32879 non-null  float64\n",
      " 10  公摊面积      17591 non-null  float64\n",
      " 11  房屋标签数量    33136 non-null  int64  \n",
      " 12  卧室数量      33136 non-null  float64\n",
      " 13  客厅数量      33136 non-null  float64\n",
      " 14  厨房数量      33136 non-null  float64\n",
      " 15  卫生间数量     33136 non-null  float64\n",
      " 16  总层数       33136 non-null  float64\n",
      " 17  中楼层       33136 non-null  uint8  \n",
      " 18  低楼层       33136 non-null  uint8  \n",
      " 19  地下室       33136 non-null  uint8  \n",
      " 20  高楼层       33136 non-null  uint8  \n",
      " 21  是否有储物间    31969 non-null  float64\n",
      " 22  是否有入户花园   31969 non-null  float64\n",
      " 23  窗户数量      31969 non-null  float64\n",
      " 24  落地窗数量     31969 non-null  float64\n",
      " 25  客厅面积占比    31969 non-null  float64\n",
      " 26  实际使用面积    31969 non-null  float64\n",
      " 27  平均卧室面积    31969 non-null  float64\n",
      " 28  卧室面积占比    31969 non-null  float64\n",
      " 29  客厅采光程度    25616 non-null  float64\n",
      " 30  主卧采光程度    17336 non-null  float64\n",
      " 31  阳台采光程度    25158 non-null  float64\n",
      " 32  复式        33136 non-null  uint8  \n",
      " 33  平层        33136 non-null  uint8  \n",
      " 34  跃层        33136 non-null  uint8  \n",
      " 35  错层        33136 non-null  uint8  \n",
      " 36  塔楼        33136 non-null  uint8  \n",
      " 37  平房        33136 non-null  uint8  \n",
      " 38  板塔结合      33136 non-null  uint8  \n",
      " 39  板楼        33136 non-null  uint8  \n",
      "dtypes: float64(27), int64(1), uint8(12)\n",
      "memory usage: 7.5 MB\n"
     ]
    }
   ],
   "metadata": {}
  },
  {
   "cell_type": "markdown",
   "source": [
    "# 四、环境特征"
   ],
   "metadata": {}
  },
  {
   "cell_type": "markdown",
   "source": [
    "### 教育设施、交通设施、购物设施、生活设施、娱乐设施、医疗设施"
   ],
   "metadata": {}
  },
  {
   "cell_type": "code",
   "execution_count": 154,
   "source": [
    "data_huanjing = data1[['幼儿园数','小学数','中学数','大学数','地铁站数','公交站数','商场数','超市数','市场数','银行数',\r\n",
    "                        'ATM数','餐厅数','咖啡馆数','公园数','电影院数','健身房数','体育馆数','医院数','药店数',\r\n",
    "                        '幼儿园平均距离','小学平均距离','中学平均距离','大学平均距离','地铁平均距离','公交平均距离',\r\n",
    "                        '商场平均距离','超市平均距离','市场平均距离','银行平均距离','ATM平均距离','餐厅平均距离',\r\n",
    "                        '咖啡馆平均距离','公园平均距离','电影院平均距离','健身房平均距离','体育馆平均距离','医院平均距离','药店平均距离',\r\n",
    "                        '地铁线数','公交线数','所在广州区域']].copy()"
   ],
   "outputs": [],
   "metadata": {}
  },
  {
   "cell_type": "code",
   "execution_count": 155,
   "source": [
    "#各设施数量\r\n",
    "data_huanjing['教育设施数量'] = data_huanjing['幼儿园数']+data_huanjing['小学数']+data_huanjing['中学数']+data_huanjing['大学数']\r\n",
    "data_huanjing['交通设施数量'] = data_huanjing['地铁站数']+data_huanjing['公交站数']\r\n",
    "data_huanjing['购物设施数量'] = data_huanjing['商场数']+data_huanjing['超市数']+data_huanjing['市场数']\r\n",
    "data_huanjing['生活设施数量'] = data_huanjing['银行数']+data_huanjing['ATM数']+data_huanjing['餐厅数']+data_huanjing['咖啡馆数']\r\n",
    "data_huanjing['娱乐设施数量'] = data_huanjing['公园数']+data_huanjing['电影院数']+data_huanjing['健身房数']+data_huanjing['体育馆数']\r\n",
    "data_huanjing['医疗设施数量'] = data_huanjing['医院数']+data_huanjing['药店数']\r\n",
    "#各设施平均距\r\n",
    "data_huanjing['教育设施平均距离'] = (data_huanjing['幼儿园平均距离']+data_huanjing['小学平均距离']+data_huanjing['中学平均距离']+data_huanjing['大学平均距离'])/4\r\n",
    "data_huanjing['交通设施平均距离'] = (data_huanjing['地铁平均距离']+data_huanjing['公交平均距离'])/2\r\n",
    "data_huanjing['购物设施平均距离'] = (data_huanjing['商场平均距离']+data_huanjing['超市平均距离']+data_huanjing['市场平均距离'])/3\r\n",
    "data_huanjing['生活设施平均距离'] = (data_huanjing['银行平均距离']+data_huanjing['ATM平均距离']+data_huanjing['餐厅平均距离']+data_huanjing['咖啡馆平均距离'])/4\r\n",
    "data_huanjing['娱乐设施平均距离'] = (data_huanjing['公园平均距离']+data_huanjing['电影院平均距离']+data_huanjing['健身房平均距离']+data_huanjing['体育馆平均距离'])/4\r\n",
    "data_huanjing['医疗设施平均距离'] = (data_huanjing['医院平均距离']+data_huanjing['药店平均距离'])/2"
   ],
   "outputs": [],
   "metadata": {}
  },
  {
   "cell_type": "code",
   "execution_count": 165,
   "source": [
    "data_huanjing.drop(columns = ['地铁站数', '地铁线数','地铁平均距离', '公交站数', '公交线数', '公交平均距离', \r\n",
    "                        '幼儿园数', '幼儿园平均距离', '小学数', '小学平均距离','中学数', '中学平均距离', \r\n",
    "                        '大学数', '大学平均距离', '医院数', '医院平均距离', '药店数', '药店平均距离','商场数', \r\n",
    "                        '商场平均距离', '超市数', '超市平均距离', '市场数', '市场平均距离', '银行数', '银行平均距离',\r\n",
    "                        'ATM数', 'ATM平均距离', '餐厅数', '餐厅平均距离', '咖啡馆数', '咖啡馆平均距离', '公园数', '公园平均距离',\r\n",
    "                        '电影院数', '电影院平均距离', '健身房数', '健身房平均距离', '体育馆数', '体育馆平均距离'],inplace=True)"
   ],
   "outputs": [],
   "metadata": {}
  },
  {
   "cell_type": "code",
   "execution_count": 156,
   "source": [
    "mapping={'天河':12,'越秀':11,'海珠':10,'荔湾':9,'白云':8,'番禺':7,'黄埔':6,'南沙':5,'顺德':4,'增城':3,'花都':2,'从化':1,'南海':0}\r\n",
    "data_huanjing['所在广州区域']=data_huanjing['所在广州区域'].map(mapping)"
   ],
   "outputs": [],
   "metadata": {}
  },
  {
   "cell_type": "code",
   "execution_count": 166,
   "source": [
    "data_huanjing.info()"
   ],
   "outputs": [
    {
     "output_type": "stream",
     "name": "stdout",
     "text": [
      "<class 'pandas.core.frame.DataFrame'>\n",
      "RangeIndex: 33136 entries, 0 to 33135\n",
      "Data columns (total 13 columns):\n",
      " #   Column    Non-Null Count  Dtype  \n",
      "---  ------    --------------  -----  \n",
      " 0   所在广州区域    33136 non-null  int64  \n",
      " 1   教育设施数量    32083 non-null  float64\n",
      " 2   交通设施数量    32083 non-null  float64\n",
      " 3   购物设施数量    32083 non-null  float64\n",
      " 4   生活设施数量    32083 non-null  float64\n",
      " 5   娱乐设施数量    32083 non-null  float64\n",
      " 6   医疗设施数量    32083 non-null  float64\n",
      " 7   教育设施平均距离  28222 non-null  float64\n",
      " 8   交通设施平均距离  32083 non-null  float64\n",
      " 9   购物设施平均距离  32083 non-null  float64\n",
      " 10  生活设施平均距离  32083 non-null  float64\n",
      " 11  娱乐设施平均距离  32083 non-null  float64\n",
      " 12  医疗设施平均距离  29191 non-null  float64\n",
      "dtypes: float64(12), int64(1)\n",
      "memory usage: 3.3 MB\n"
     ]
    }
   ],
   "metadata": {}
  },
  {
   "cell_type": "markdown",
   "source": [
    "# 五、合并数据"
   ],
   "metadata": {}
  },
  {
   "cell_type": "code",
   "execution_count": 167,
   "source": [
    "final_data = pd.concat([data1['小区ID'],data_jiaoyi,data_jianzhu,data_huanjing],axis=1)"
   ],
   "outputs": [],
   "metadata": {}
  },
  {
   "cell_type": "code",
   "execution_count": 168,
   "source": [
    "final_data.info()"
   ],
   "outputs": [
    {
     "output_type": "stream",
     "name": "stdout",
     "text": [
      "<class 'pandas.core.frame.DataFrame'>\n",
      "RangeIndex: 33136 entries, 0 to 33135\n",
      "Data columns (total 70 columns):\n",
      " #   Column     Non-Null Count  Dtype  \n",
      "---  ------     --------------  -----  \n",
      " 0   小区ID       33136 non-null  int64  \n",
      " 1   关注人数       33136 non-null  int64  \n",
      " 2   房屋总价       33136 non-null  float64\n",
      " 3   房屋每平米价     33136 non-null  float64\n",
      " 4   近七天带看房次数   33136 non-null  int64  \n",
      " 5   30天带看房次数   33136 non-null  int64  \n",
      " 6   小区均价       33127 non-null  float64\n",
      " 7   小区在售二手房数   33127 non-null  float64\n",
      " 8   小区在租房数     33127 non-null  float64\n",
      " 9   小区物业费用     31045 non-null  float64\n",
      " 10  小区关注人数     33123 non-null  float64\n",
      " 11  房屋用途       33136 non-null  int32  \n",
      " 12  交易权属       33136 non-null  int32  \n",
      " 13  挂牌距上次交易天数  31882 non-null  float64\n",
      " 14  是否抵押       33004 non-null  float64\n",
      " 15  是否上传房本照片   33136 non-null  int64  \n",
      " 16  产权是否共有     33136 non-null  int32  \n",
      " 17  小区楼栋数      33127 non-null  float64\n",
      " 18  房屋图片数量     32552 non-null  float64\n",
      " 19  建筑面积       33136 non-null  float64\n",
      " 20  套内面积       17591 non-null  float64\n",
      " 21  梯户比例       32738 non-null  float64\n",
      " 22  建筑结构       32617 non-null  float64\n",
      " 23  装修情况       25110 non-null  float64\n",
      " 24  配备电梯       31431 non-null  float64\n",
      " 25  建楼距今年数     22977 non-null  float64\n",
      " 26  小区建成距今年数   32879 non-null  float64\n",
      " 27  公摊面积       17591 non-null  float64\n",
      " 28  房屋标签数量     33136 non-null  int64  \n",
      " 29  卧室数量       33136 non-null  float64\n",
      " 30  客厅数量       33136 non-null  float64\n",
      " 31  厨房数量       33136 non-null  float64\n",
      " 32  卫生间数量      33136 non-null  float64\n",
      " 33  总层数        33136 non-null  float64\n",
      " 34  中楼层        33136 non-null  uint8  \n",
      " 35  低楼层        33136 non-null  uint8  \n",
      " 36  地下室        33136 non-null  uint8  \n",
      " 37  高楼层        33136 non-null  uint8  \n",
      " 38  是否有储物间     31969 non-null  float64\n",
      " 39  是否有入户花园    31969 non-null  float64\n",
      " 40  窗户数量       31969 non-null  float64\n",
      " 41  落地窗数量      31969 non-null  float64\n",
      " 42  客厅面积占比     31969 non-null  float64\n",
      " 43  实际使用面积     31969 non-null  float64\n",
      " 44  平均卧室面积     31969 non-null  float64\n",
      " 45  卧室面积占比     31969 non-null  float64\n",
      " 46  客厅采光程度     25616 non-null  float64\n",
      " 47  主卧采光程度     17336 non-null  float64\n",
      " 48  阳台采光程度     25158 non-null  float64\n",
      " 49  复式         33136 non-null  uint8  \n",
      " 50  平层         33136 non-null  uint8  \n",
      " 51  跃层         33136 non-null  uint8  \n",
      " 52  错层         33136 non-null  uint8  \n",
      " 53  塔楼         33136 non-null  uint8  \n",
      " 54  平房         33136 non-null  uint8  \n",
      " 55  板塔结合       33136 non-null  uint8  \n",
      " 56  板楼         33136 non-null  uint8  \n",
      " 57  所在广州区域     33136 non-null  int64  \n",
      " 58  教育设施数量     32083 non-null  float64\n",
      " 59  交通设施数量     32083 non-null  float64\n",
      " 60  购物设施数量     32083 non-null  float64\n",
      " 61  生活设施数量     32083 non-null  float64\n",
      " 62  娱乐设施数量     32083 non-null  float64\n",
      " 63  医疗设施数量     32083 non-null  float64\n",
      " 64  教育设施平均距离   28222 non-null  float64\n",
      " 65  交通设施平均距离   32083 non-null  float64\n",
      " 66  购物设施平均距离   32083 non-null  float64\n",
      " 67  生活设施平均距离   32083 non-null  float64\n",
      " 68  娱乐设施平均距离   32083 non-null  float64\n",
      " 69  医疗设施平均距离   29191 non-null  float64\n",
      "dtypes: float64(48), int32(3), int64(7), uint8(12)\n",
      "memory usage: 14.7 MB\n"
     ]
    }
   ],
   "metadata": {}
  },
  {
   "cell_type": "markdown",
   "source": [
    "如上所示，数据全部为数值型"
   ],
   "metadata": {}
  },
  {
   "cell_type": "code",
   "execution_count": 169,
   "source": [
    "final_data.to_excel('Preprocessed_data.xlsx',index=False)"
   ],
   "outputs": [],
   "metadata": {}
  },
  {
   "cell_type": "code",
   "execution_count": 174,
   "source": [
    "index = final_data.isnull().sum()>0"
   ],
   "outputs": [],
   "metadata": {}
  },
  {
   "cell_type": "code",
   "execution_count": 177,
   "source": [
    "final_data.isnull().sum()[index]"
   ],
   "outputs": [
    {
     "output_type": "execute_result",
     "data": {
      "text/plain": [
       "小区均价             9\n",
       "小区在售二手房数         9\n",
       "小区在租房数           9\n",
       "小区物业费用        2091\n",
       "小区关注人数          13\n",
       "挂牌距上次交易天数     1254\n",
       "是否抵押           132\n",
       "小区楼栋数            9\n",
       "房屋图片数量         584\n",
       "套内面积         15545\n",
       "梯户比例           398\n",
       "建筑结构           519\n",
       "装修情况          8026\n",
       "配备电梯          1705\n",
       "建楼距今年数       10159\n",
       "小区建成距今年数       257\n",
       "公摊面积         15545\n",
       "是否有储物间        1167\n",
       "是否有入户花园       1167\n",
       "窗户数量          1167\n",
       "落地窗数量         1167\n",
       "客厅面积占比        1167\n",
       "实际使用面积        1167\n",
       "平均卧室面积        1167\n",
       "卧室面积占比        1167\n",
       "客厅采光程度        7520\n",
       "主卧采光程度       15800\n",
       "阳台采光程度        7978\n",
       "教育设施数量        1053\n",
       "交通设施数量        1053\n",
       "购物设施数量        1053\n",
       "生活设施数量        1053\n",
       "娱乐设施数量        1053\n",
       "医疗设施数量        1053\n",
       "教育设施平均距离      4914\n",
       "交通设施平均距离      1053\n",
       "购物设施平均距离      1053\n",
       "生活设施平均距离      1053\n",
       "娱乐设施平均距离      1053\n",
       "医疗设施平均距离      3945\n",
       "dtype: int64"
      ]
     },
     "metadata": {},
     "execution_count": 177
    }
   ],
   "metadata": {}
  },
  {
   "cell_type": "markdown",
   "source": [
    "缺失值处理方法\r\n",
    "- 直接删除\r\n",
    "- 填充（0、最大值、均值、中位数等）\r\n",
    "- 建模预测（knn、Matrix_completion，使用与预测特征较相关的特征建模）\r\n",
    "- 将缺失值作为一个类别进行编码\r\n",
    "- 使用能自动处理缺失值的模型"
   ],
   "metadata": {}
  },
  {
   "cell_type": "code",
   "execution_count": 198,
   "source": [
    "final_data"
   ],
   "outputs": [
    {
     "output_type": "execute_result",
     "data": {
      "text/html": [
       "<div>\n",
       "<style scoped>\n",
       "    .dataframe tbody tr th:only-of-type {\n",
       "        vertical-align: middle;\n",
       "    }\n",
       "\n",
       "    .dataframe tbody tr th {\n",
       "        vertical-align: top;\n",
       "    }\n",
       "\n",
       "    .dataframe thead th {\n",
       "        text-align: right;\n",
       "    }\n",
       "</style>\n",
       "<table border=\"1\" class=\"dataframe\">\n",
       "  <thead>\n",
       "    <tr style=\"text-align: right;\">\n",
       "      <th></th>\n",
       "      <th>小区ID</th>\n",
       "      <th>关注人数</th>\n",
       "      <th>房屋总价</th>\n",
       "      <th>房屋每平米价</th>\n",
       "      <th>近七天带看房次数</th>\n",
       "      <th>30天带看房次数</th>\n",
       "      <th>小区均价</th>\n",
       "      <th>小区在售二手房数</th>\n",
       "      <th>小区在租房数</th>\n",
       "      <th>小区物业费用</th>\n",
       "      <th>...</th>\n",
       "      <th>购物设施数量</th>\n",
       "      <th>生活设施数量</th>\n",
       "      <th>娱乐设施数量</th>\n",
       "      <th>医疗设施数量</th>\n",
       "      <th>教育设施平均距离</th>\n",
       "      <th>交通设施平均距离</th>\n",
       "      <th>购物设施平均距离</th>\n",
       "      <th>生活设施平均距离</th>\n",
       "      <th>娱乐设施平均距离</th>\n",
       "      <th>医疗设施平均距离</th>\n",
       "    </tr>\n",
       "  </thead>\n",
       "  <tbody>\n",
       "    <tr>\n",
       "      <th>0</th>\n",
       "      <td>2111103317017</td>\n",
       "      <td>6</td>\n",
       "      <td>660.0</td>\n",
       "      <td>56085.0</td>\n",
       "      <td>0</td>\n",
       "      <td>6</td>\n",
       "      <td>51707.0</td>\n",
       "      <td>3.0</td>\n",
       "      <td>5.0</td>\n",
       "      <td>1.50</td>\n",
       "      <td>...</td>\n",
       "      <td>18.0</td>\n",
       "      <td>20.0</td>\n",
       "      <td>19.0</td>\n",
       "      <td>13.0</td>\n",
       "      <td>939.3</td>\n",
       "      <td>1149.937500</td>\n",
       "      <td>1028.953968</td>\n",
       "      <td>1399.00</td>\n",
       "      <td>1183.5875</td>\n",
       "      <td>1123.357143</td>\n",
       "    </tr>\n",
       "    <tr>\n",
       "      <th>1</th>\n",
       "      <td>2111103316662</td>\n",
       "      <td>19</td>\n",
       "      <td>850.0</td>\n",
       "      <td>82734.0</td>\n",
       "      <td>2</td>\n",
       "      <td>14</td>\n",
       "      <td>83102.0</td>\n",
       "      <td>5.0</td>\n",
       "      <td>6.0</td>\n",
       "      <td>0.80</td>\n",
       "      <td>...</td>\n",
       "      <td>NaN</td>\n",
       "      <td>NaN</td>\n",
       "      <td>NaN</td>\n",
       "      <td>NaN</td>\n",
       "      <td>NaN</td>\n",
       "      <td>NaN</td>\n",
       "      <td>NaN</td>\n",
       "      <td>NaN</td>\n",
       "      <td>NaN</td>\n",
       "      <td>NaN</td>\n",
       "    </tr>\n",
       "    <tr>\n",
       "      <th>2</th>\n",
       "      <td>2120031152991701</td>\n",
       "      <td>7</td>\n",
       "      <td>329.0</td>\n",
       "      <td>46740.0</td>\n",
       "      <td>0</td>\n",
       "      <td>5</td>\n",
       "      <td>40745.0</td>\n",
       "      <td>1.0</td>\n",
       "      <td>1.0</td>\n",
       "      <td>1.50</td>\n",
       "      <td>...</td>\n",
       "      <td>20.0</td>\n",
       "      <td>20.0</td>\n",
       "      <td>14.0</td>\n",
       "      <td>13.0</td>\n",
       "      <td>1209.0</td>\n",
       "      <td>621.333333</td>\n",
       "      <td>1135.857143</td>\n",
       "      <td>1085.20</td>\n",
       "      <td>1336.8250</td>\n",
       "      <td>1207.392857</td>\n",
       "    </tr>\n",
       "    <tr>\n",
       "      <th>3</th>\n",
       "      <td>2111103316813</td>\n",
       "      <td>26</td>\n",
       "      <td>568.0</td>\n",
       "      <td>49742.0</td>\n",
       "      <td>20</td>\n",
       "      <td>71</td>\n",
       "      <td>47871.0</td>\n",
       "      <td>19.0</td>\n",
       "      <td>15.0</td>\n",
       "      <td>1.50</td>\n",
       "      <td>...</td>\n",
       "      <td>NaN</td>\n",
       "      <td>NaN</td>\n",
       "      <td>NaN</td>\n",
       "      <td>NaN</td>\n",
       "      <td>NaN</td>\n",
       "      <td>NaN</td>\n",
       "      <td>NaN</td>\n",
       "      <td>NaN</td>\n",
       "      <td>NaN</td>\n",
       "      <td>NaN</td>\n",
       "    </tr>\n",
       "    <tr>\n",
       "      <th>4</th>\n",
       "      <td>2110343238336962</td>\n",
       "      <td>9</td>\n",
       "      <td>520.0</td>\n",
       "      <td>51768.0</td>\n",
       "      <td>16</td>\n",
       "      <td>51</td>\n",
       "      <td>47156.0</td>\n",
       "      <td>17.0</td>\n",
       "      <td>18.0</td>\n",
       "      <td>6.25</td>\n",
       "      <td>...</td>\n",
       "      <td>NaN</td>\n",
       "      <td>NaN</td>\n",
       "      <td>NaN</td>\n",
       "      <td>NaN</td>\n",
       "      <td>NaN</td>\n",
       "      <td>NaN</td>\n",
       "      <td>NaN</td>\n",
       "      <td>NaN</td>\n",
       "      <td>NaN</td>\n",
       "      <td>NaN</td>\n",
       "    </tr>\n",
       "    <tr>\n",
       "      <th>...</th>\n",
       "      <td>...</td>\n",
       "      <td>...</td>\n",
       "      <td>...</td>\n",
       "      <td>...</td>\n",
       "      <td>...</td>\n",
       "      <td>...</td>\n",
       "      <td>...</td>\n",
       "      <td>...</td>\n",
       "      <td>...</td>\n",
       "      <td>...</td>\n",
       "      <td>...</td>\n",
       "      <td>...</td>\n",
       "      <td>...</td>\n",
       "      <td>...</td>\n",
       "      <td>...</td>\n",
       "      <td>...</td>\n",
       "      <td>...</td>\n",
       "      <td>...</td>\n",
       "      <td>...</td>\n",
       "      <td>...</td>\n",
       "      <td>...</td>\n",
       "    </tr>\n",
       "    <tr>\n",
       "      <th>33131</th>\n",
       "      <td>6220035099512867</td>\n",
       "      <td>80</td>\n",
       "      <td>95.0</td>\n",
       "      <td>14054.0</td>\n",
       "      <td>0</td>\n",
       "      <td>0</td>\n",
       "      <td>14409.0</td>\n",
       "      <td>18.0</td>\n",
       "      <td>8.0</td>\n",
       "      <td>2.25</td>\n",
       "      <td>...</td>\n",
       "      <td>12.0</td>\n",
       "      <td>16.0</td>\n",
       "      <td>11.0</td>\n",
       "      <td>3.0</td>\n",
       "      <td>NaN</td>\n",
       "      <td>651.500000</td>\n",
       "      <td>981.119048</td>\n",
       "      <td>900.35</td>\n",
       "      <td>940.3000</td>\n",
       "      <td>1376.750000</td>\n",
       "    </tr>\n",
       "    <tr>\n",
       "      <th>33132</th>\n",
       "      <td>6220035099512867</td>\n",
       "      <td>39</td>\n",
       "      <td>105.0</td>\n",
       "      <td>13816.0</td>\n",
       "      <td>0</td>\n",
       "      <td>0</td>\n",
       "      <td>14409.0</td>\n",
       "      <td>18.0</td>\n",
       "      <td>8.0</td>\n",
       "      <td>2.25</td>\n",
       "      <td>...</td>\n",
       "      <td>12.0</td>\n",
       "      <td>16.0</td>\n",
       "      <td>11.0</td>\n",
       "      <td>3.0</td>\n",
       "      <td>NaN</td>\n",
       "      <td>651.500000</td>\n",
       "      <td>981.119048</td>\n",
       "      <td>900.35</td>\n",
       "      <td>940.3000</td>\n",
       "      <td>1376.750000</td>\n",
       "    </tr>\n",
       "    <tr>\n",
       "      <th>33133</th>\n",
       "      <td>6220035099512867</td>\n",
       "      <td>2</td>\n",
       "      <td>128.0</td>\n",
       "      <td>18935.0</td>\n",
       "      <td>0</td>\n",
       "      <td>0</td>\n",
       "      <td>14409.0</td>\n",
       "      <td>18.0</td>\n",
       "      <td>8.0</td>\n",
       "      <td>2.25</td>\n",
       "      <td>...</td>\n",
       "      <td>12.0</td>\n",
       "      <td>16.0</td>\n",
       "      <td>11.0</td>\n",
       "      <td>3.0</td>\n",
       "      <td>NaN</td>\n",
       "      <td>651.500000</td>\n",
       "      <td>981.119048</td>\n",
       "      <td>900.35</td>\n",
       "      <td>940.3000</td>\n",
       "      <td>1376.750000</td>\n",
       "    </tr>\n",
       "    <tr>\n",
       "      <th>33134</th>\n",
       "      <td>6220035099512867</td>\n",
       "      <td>0</td>\n",
       "      <td>260.0</td>\n",
       "      <td>23854.0</td>\n",
       "      <td>0</td>\n",
       "      <td>0</td>\n",
       "      <td>14409.0</td>\n",
       "      <td>18.0</td>\n",
       "      <td>8.0</td>\n",
       "      <td>2.25</td>\n",
       "      <td>...</td>\n",
       "      <td>12.0</td>\n",
       "      <td>16.0</td>\n",
       "      <td>11.0</td>\n",
       "      <td>3.0</td>\n",
       "      <td>NaN</td>\n",
       "      <td>651.500000</td>\n",
       "      <td>981.119048</td>\n",
       "      <td>900.35</td>\n",
       "      <td>940.3000</td>\n",
       "      <td>1376.750000</td>\n",
       "    </tr>\n",
       "    <tr>\n",
       "      <th>33135</th>\n",
       "      <td>6220035099512867</td>\n",
       "      <td>6</td>\n",
       "      <td>93.0</td>\n",
       "      <td>13881.0</td>\n",
       "      <td>0</td>\n",
       "      <td>0</td>\n",
       "      <td>14409.0</td>\n",
       "      <td>18.0</td>\n",
       "      <td>8.0</td>\n",
       "      <td>2.25</td>\n",
       "      <td>...</td>\n",
       "      <td>12.0</td>\n",
       "      <td>16.0</td>\n",
       "      <td>11.0</td>\n",
       "      <td>3.0</td>\n",
       "      <td>NaN</td>\n",
       "      <td>651.500000</td>\n",
       "      <td>981.119048</td>\n",
       "      <td>900.35</td>\n",
       "      <td>940.3000</td>\n",
       "      <td>1376.750000</td>\n",
       "    </tr>\n",
       "  </tbody>\n",
       "</table>\n",
       "<p>33136 rows × 70 columns</p>\n",
       "</div>"
      ],
      "text/plain": [
       "                   小区ID  关注人数   房屋总价   房屋每平米价  近七天带看房次数  30天带看房次数     小区均价  \\\n",
       "0         2111103317017     6  660.0  56085.0         0         6  51707.0   \n",
       "1         2111103316662    19  850.0  82734.0         2        14  83102.0   \n",
       "2      2120031152991701     7  329.0  46740.0         0         5  40745.0   \n",
       "3         2111103316813    26  568.0  49742.0        20        71  47871.0   \n",
       "4      2110343238336962     9  520.0  51768.0        16        51  47156.0   \n",
       "...                 ...   ...    ...      ...       ...       ...      ...   \n",
       "33131  6220035099512867    80   95.0  14054.0         0         0  14409.0   \n",
       "33132  6220035099512867    39  105.0  13816.0         0         0  14409.0   \n",
       "33133  6220035099512867     2  128.0  18935.0         0         0  14409.0   \n",
       "33134  6220035099512867     0  260.0  23854.0         0         0  14409.0   \n",
       "33135  6220035099512867     6   93.0  13881.0         0         0  14409.0   \n",
       "\n",
       "       小区在售二手房数  小区在租房数  小区物业费用  ...  购物设施数量  生活设施数量  娱乐设施数量  医疗设施数量  \\\n",
       "0           3.0     5.0    1.50  ...    18.0    20.0    19.0    13.0   \n",
       "1           5.0     6.0    0.80  ...     NaN     NaN     NaN     NaN   \n",
       "2           1.0     1.0    1.50  ...    20.0    20.0    14.0    13.0   \n",
       "3          19.0    15.0    1.50  ...     NaN     NaN     NaN     NaN   \n",
       "4          17.0    18.0    6.25  ...     NaN     NaN     NaN     NaN   \n",
       "...         ...     ...     ...  ...     ...     ...     ...     ...   \n",
       "33131      18.0     8.0    2.25  ...    12.0    16.0    11.0     3.0   \n",
       "33132      18.0     8.0    2.25  ...    12.0    16.0    11.0     3.0   \n",
       "33133      18.0     8.0    2.25  ...    12.0    16.0    11.0     3.0   \n",
       "33134      18.0     8.0    2.25  ...    12.0    16.0    11.0     3.0   \n",
       "33135      18.0     8.0    2.25  ...    12.0    16.0    11.0     3.0   \n",
       "\n",
       "       教育设施平均距离     交通设施平均距离     购物设施平均距离  生活设施平均距离   娱乐设施平均距离     医疗设施平均距离  \n",
       "0         939.3  1149.937500  1028.953968   1399.00  1183.5875  1123.357143  \n",
       "1           NaN          NaN          NaN       NaN        NaN          NaN  \n",
       "2        1209.0   621.333333  1135.857143   1085.20  1336.8250  1207.392857  \n",
       "3           NaN          NaN          NaN       NaN        NaN          NaN  \n",
       "4           NaN          NaN          NaN       NaN        NaN          NaN  \n",
       "...         ...          ...          ...       ...        ...          ...  \n",
       "33131       NaN   651.500000   981.119048    900.35   940.3000  1376.750000  \n",
       "33132       NaN   651.500000   981.119048    900.35   940.3000  1376.750000  \n",
       "33133       NaN   651.500000   981.119048    900.35   940.3000  1376.750000  \n",
       "33134       NaN   651.500000   981.119048    900.35   940.3000  1376.750000  \n",
       "33135       NaN   651.500000   981.119048    900.35   940.3000  1376.750000  \n",
       "\n",
       "[33136 rows x 70 columns]"
      ]
     },
     "metadata": {},
     "execution_count": 198
    }
   ],
   "metadata": {}
  },
  {
   "cell_type": "code",
   "execution_count": 200,
   "source": [
    "data.select_dtypes(exclude='object').columns"
   ],
   "outputs": [
    {
     "output_type": "execute_result",
     "data": {
      "text/plain": [
       "Index(['小区ID', '关注人数', '房屋图片数量', '近七天带看房次数', '30天带看房次数', '爬取日期', '小区均价',\n",
       "       '小区在售二手房数', '小区在租房数', '小区关注人数', '地铁站数', '地铁线数', '地铁平均距离', '公交站数',\n",
       "       '公交线数', '公交平均距离', '幼儿园数', '幼儿园平均距离', '小学数', '小学平均距离', '中学数', '中学平均距离',\n",
       "       '大学数', '大学平均距离', '医院数', '医院平均距离', '药店数', '药店平均距离', '商场数', '商场平均距离',\n",
       "       '超市数', '超市平均距离', '市场数', '市场平均距离', '银行数', '银行平均距离', 'ATM数', 'ATM平均距离',\n",
       "       '餐厅数', '餐厅平均距离', '咖啡馆数', '咖啡馆平均距离', '公园数', '公园平均距离', '电影院数', '电影院平均距离',\n",
       "       '健身房数', '健身房平均距离', '体育馆数', '体育馆平均距离'],\n",
       "      dtype='object')"
      ]
     },
     "metadata": {},
     "execution_count": 200
    }
   ],
   "metadata": {}
  },
  {
   "cell_type": "code",
   "execution_count": 201,
   "source": [
    "data.select_dtypes(include='object').columns"
   ],
   "outputs": [
    {
     "output_type": "execute_result",
     "data": {
      "text/plain": [
       "Index(['所在广州区域', '房屋总价', '房屋每平米价', '建楼时间', 'tag', '户型分间', '小区楼栋数', '小区建筑类型',\n",
       "       '小区建筑年代', '小区物业费用', '房屋户型', '所在楼层', '建筑面积', '户型结构', '套内面积', '建筑类型',\n",
       "       '房屋朝向', '建筑结构', '装修情况', '梯户比例', '配备电梯', '挂牌时间', '交易权属', '上次交易', '房屋用途',\n",
       "       '房屋年限', '产权所属', '抵押信息', '房本备件'],\n",
       "      dtype='object')"
      ]
     },
     "metadata": {},
     "execution_count": 201
    }
   ],
   "metadata": {}
  },
  {
   "cell_type": "code",
   "execution_count": 202,
   "source": [
    "import matplotlib.pyplot as plt"
   ],
   "outputs": [],
   "metadata": {}
  },
  {
   "cell_type": "code",
   "execution_count": 206,
   "source": [
    "plt.figure(figsize=(20,10))\r\n",
    "plt.hist(data['房屋总价'])\r\n",
    "plt.show()"
   ],
   "outputs": [],
   "metadata": {}
  },
  {
   "cell_type": "code",
   "execution_count": null,
   "source": [],
   "outputs": [],
   "metadata": {}
  }
 ],
 "metadata": {
  "orig_nbformat": 4,
  "language_info": {
   "name": "python",
   "version": "3.8.5",
   "mimetype": "text/x-python",
   "codemirror_mode": {
    "name": "ipython",
    "version": 3
   },
   "pygments_lexer": "ipython3",
   "nbconvert_exporter": "python",
   "file_extension": ".py"
  },
  "kernelspec": {
   "name": "python3",
   "display_name": "Python 3.8.5 64-bit ('base': conda)"
  },
  "interpreter": {
   "hash": "a8f61be024eba58adef938c9aa1e29e02cb3dece83a5348b1a2dafd16a070453"
  }
 },
 "nbformat": 4,
 "nbformat_minor": 2
}